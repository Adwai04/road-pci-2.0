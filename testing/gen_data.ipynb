{
 "cells": [
  {
   "cell_type": "code",
   "execution_count": 1,
   "id": "adf22c7d-7f1a-4f4b-8cc0-d6afccaee668",
   "metadata": {},
   "outputs": [],
   "source": [
    "import pandas as pd\n",
    "import numpy as np \n",
    "import matplotlib.pyplot as plt\n",
    "import os\n",
    "import sys\n",
    "from geopy import distance\n",
    "from datetime import datetime"
   ]
  },
  {
   "cell_type": "code",
   "execution_count": 2,
   "id": "87669782-fa09-45f7-93ee-8330dab9181e",
   "metadata": {},
   "outputs": [],
   "source": [
    "import sys\n",
    "dir_path = os.path.join(os.getcwd(), '../', 'scripts/')\n",
    "sys.path.insert(1, dir_path)\n",
    "from resample import return_resampled_df"
   ]
  },
  {
   "cell_type": "code",
   "execution_count": 3,
   "id": "20d94075-7f42-4bf4-9464-f999fd913780",
   "metadata": {},
   "outputs": [],
   "source": [
    "def format_data(acc_df, label_df):\n",
    "    if 'Latitude' not in acc_df:\n",
    "        acc_df.rename(columns = {'Lat': 'Latitude'}, inplace = True) \n",
    "        acc_df.rename(columns = {'Lng': 'Longitude'}, inplace = True)\n",
    "        \n",
    "    time = label_df['Time']\n",
    "    if label_df['Time'].dtype != float:\n",
    "        time = [datetime.strptime(x, '%Y-%m-%d %H:%M:%S:%f') for x in time]\n",
    "    time = pd.Series(time)\n",
    "    time = time.apply(lambda x: x.timestamp())\n",
    "        \n",
    "    time_ = acc_df['Time']\n",
    "    if acc_df['Time'].dtype != float:\n",
    "        time_ = [datetime.strptime(x, '%Y-%m-%d %H:%M:%S:%f') for x in time_]\n",
    "        time_ = pd.Series(time_)\n",
    "        time_ = time_.apply(lambda x: x.timestamp())\n",
    "\n",
    "    time = time - time_[0]\n",
    "    label_df['Time'] = time\n",
    "    return acc_df, label_df"
   ]
  },
  {
   "cell_type": "code",
   "execution_count": 14,
   "id": "2cf9f146-951f-43f8-aa04-b43fbc37d4aa",
   "metadata": {},
   "outputs": [],
   "source": [
    "def get_merged_label_data(date, data_nums, type='roughness'):\n",
    "    data = pd.DataFrame()\n",
    "    last_time = 0\n",
    "    for data_num in data_nums:\n",
    "        label_path = os.path.join(os.getcwd(), '../data/labels/'+date+'/'+'auto_'+str(data_num)+'_labels.csv')\n",
    "        acc_path = os.path.join(os.getcwd(), '../data/acc/'+date+'/pickledData/pickled'+str(data_num)+'.pkl')\n",
    "        cur_data = return_resampled_df(0, label_path=label_path, acc_path=acc_path)\n",
    "        time_arr = cur_data['Time'].to_numpy()\n",
    "        time_arr = time_arr + last_time\n",
    "        cur_data['Time'] = time_arr\n",
    "        last_time = time_arr[-1]\n",
    "        # print(cur_data)\n",
    "        if not cur_data.empty:\n",
    "            data = pd.concat([data, cur_data])\n",
    "        data = data.reset_index(drop=True)\n",
    "    event_vals = [0, 5, 6, 7, 8]\n",
    "    if type == 'roughness':\n",
    "        final_data = data.loc[~data['Label'].isin(event_vals)]\n",
    "    elif type == 'event':\n",
    "        data.loc[~data['Label'].isin(event_vals), 'Label'] = 0\n",
    "        final_data = data\n",
    "    final_data = final_data.reset_index(drop=True)\n",
    "    return final_data"
   ]
  },
  {
   "cell_type": "code",
   "execution_count": 15,
   "id": "88f193b0-9ba6-4abf-80be-4089e494930f",
   "metadata": {},
   "outputs": [],
   "source": [
    "date = '29March2024'\n",
    "data_nums = [1, 3, 5, 8]"
   ]
  },
  {
   "cell_type": "code",
   "execution_count": 16,
   "id": "1ed63c22-3efc-44dc-9fa6-f94edae2fbd8",
   "metadata": {},
   "outputs": [
    {
     "name": "stdout",
     "output_type": "stream",
     "text": [
      "Individual time taken by pre-process: 0.01 seconds for data size: 10982\n",
      "Individual time taken by resample: 0.81 seconds for data size: 10982\n",
      "Individual time taken by pre-process: 0.0 seconds for data size: 8929\n",
      "Individual time taken by resample: 0.64 seconds for data size: 8929\n",
      "Individual time taken by pre-process: 0.0 seconds for data size: 1414\n",
      "Individual time taken by resample: 0.1 seconds for data size: 1414\n",
      "Individual time taken by pre-process: 0.0 seconds for data size: 8350\n",
      "Individual time taken by resample: 0.6 seconds for data size: 8350\n",
      "          x_acc      y_acc     z_acc         Time  Velocity  Prev_Velocity  \\\n",
      "0      9.663713  -0.851546 -0.629611     0.000000  0.099691            0.0   \n",
      "1      9.684225  -0.853255 -0.915493     0.020002  0.099691            0.0   \n",
      "2      9.713227  -0.849977 -0.998117     0.040004  0.099691            0.0   \n",
      "3      9.738841  -0.844847 -0.956117     0.060006  0.099691            0.0   \n",
      "4      9.713315  -0.848037 -0.975262     0.080007  0.099691            0.0   \n",
      "...         ...        ...       ...          ...       ...            ...   \n",
      "55773 -2.299565  10.366408  1.769001  1115.521995  8.023365            0.0   \n",
      "55774 -1.700521   8.141731  1.372962  1115.541996  8.023365            0.0   \n",
      "55775 -0.781963   8.488195 -0.624248  1115.561997  8.023365            0.0   \n",
      "55776 -1.492956   8.548331 -0.555292  1115.581999  8.023365            0.0   \n",
      "55777 -3.537788   8.373683  1.205085  1115.602000  8.023365            0.0   \n",
      "\n",
      "       Next_Velocity   Latitude  Longitude  Label  \n",
      "0           0.067663  16.856731  73.548271      1  \n",
      "1           0.067663  16.856731  73.548271      1  \n",
      "2           0.067663  16.856731  73.548271      1  \n",
      "3           0.067663  16.856731  73.548271      1  \n",
      "4           0.067663  16.856731  73.548271      1  \n",
      "...              ...        ...        ...    ...  \n",
      "55773       0.000000  16.805414  73.474935      2  \n",
      "55774       0.000000  16.805414  73.474935      2  \n",
      "55775       0.000000  16.805414  73.474935      2  \n",
      "55776       0.000000  16.805414  73.474935      2  \n",
      "55777       0.000000  16.805414  73.474935      2  \n",
      "\n",
      "[55778 rows x 10 columns]\n"
     ]
    }
   ],
   "source": [
    "merged_data = get_merged_label_data(date, data_nums)\n",
    "print(merged_data)"
   ]
  },
  {
   "cell_type": "code",
   "execution_count": 19,
   "id": "ef8be847-93b3-4a5e-bb40-9504af52cade",
   "metadata": {},
   "outputs": [],
   "source": [
    "filename = ''\n",
    "for data_num in data_nums:\n",
    "    filename += str(data_num)\n",
    "filename = str(date)+'_'+filename+'.csv'\n",
    "merged_data.to_csv('../data/test_data/'+filename)"
   ]
  },
  {
   "cell_type": "code",
   "execution_count": null,
   "id": "31119442-2bf8-4471-b578-340e32f66ca4",
   "metadata": {},
   "outputs": [],
   "source": []
  }
 ],
 "metadata": {
  "kernelspec": {
   "display_name": "Python 3.11.7",
   "language": "python",
   "name": "py3.11.7"
  },
  "language_info": {
   "codemirror_mode": {
    "name": "ipython",
    "version": 3
   },
   "file_extension": ".py",
   "mimetype": "text/x-python",
   "name": "python",
   "nbconvert_exporter": "python",
   "pygments_lexer": "ipython3",
   "version": "3.11.7"
  }
 },
 "nbformat": 4,
 "nbformat_minor": 5
}
