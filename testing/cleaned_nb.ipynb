{
 "cells": [
  {
   "cell_type": "markdown",
   "id": "906df367",
   "metadata": {},
   "source": [
    "### Use this file for running the complete pipeline \n",
    "- in order to see graph at every step change DEBUG to True \n",
    "- to perform event based analysis change event based analysis to True"
   ]
  },
  {
   "cell_type": "markdown",
   "id": "d2d461cc",
   "metadata": {},
   "source": [
    "# COMPLETE PIPELINE\n",
    "- loading data \n",
    "- resampling \n",
    "- reorientation \n",
    "- filtering \n",
    "- segmentation \n",
    "- features extraction \n",
    "- training \n",
    "- testing"
   ]
  },
  {
   "cell_type": "code",
   "execution_count": 1,
   "id": "012d9d3a",
   "metadata": {},
   "outputs": [],
   "source": [
    "import pandas as pd\n",
    "import numpy as np \n",
    "import matplotlib.pyplot as plt \n",
    "from scipy.interpolate import BPoly\n",
    "from sklearn.decomposition import PCA\n",
    "from scipy.linalg import eigh\n",
    "from scipy.signal import butter,filtfilt, lfilter\n",
    "from mpl_toolkits.mplot3d import Axes3D\n",
    "from scipy import stats\n",
    "from sklearn.model_selection import train_test_split\n",
    "from sklearn.ensemble import RandomForestClassifier\n",
    "from sklearn.metrics import accuracy_score, classification_report\n",
    "from sklearn.svm import SVC,LinearSVC\n",
    "import pywt\n",
    "from scipy.fft import fft, fftfreq, rfft, rfftfreq\n",
    "from sklearn.impute import KNNImputer\n",
    "from geopy import distance\n",
    "from scipy.signal import iirdesign as iir\n",
    "import os\n",
    "from scipy import signal \n",
    "import librosa"
   ]
  },
  {
   "cell_type": "markdown",
   "id": "c2d3e888",
   "metadata": {},
   "source": [
    "# DECLARING GLOBAL PARAMS"
   ]
  },
  {
   "cell_type": "code",
   "execution_count": 2,
   "id": "12806962",
   "metadata": {},
   "outputs": [],
   "source": [
    "path_to_filters = ''\n",
    "sliding_window_size = 50\n",
    "overlap = 0.5 \n",
    "resampling_freq = 50\n",
    "start_time = 26.651\n",
    "tuning_time = 1\n",
    "reorientation_type = 'euler'\n",
    "plot_3d = False\n",
    "custom_filters = {}\n",
    "filt_name_arr = ['butter_orig'] # in order to see original [0] = 'butter_orig' else [0] = 'xyz'\n",
    "# it has to be hardcoded now bcz start time of label data and acc data are differnet and we need to reference it to\n",
    "# accn data \n",
    "plot_hm = False\n",
    "DEBUG = False\n",
    "event_based_analysis = False"
   ]
  },
  {
   "cell_type": "markdown",
   "id": "6aa146bd",
   "metadata": {},
   "source": [
    "# LOADING DATA \n",
    "#### this is the data after the pre-processing steps- \n",
    "- remove duplicates \n",
    "- label data sampled at 0.5Hz\n",
    "- upscaling at 40 Hz\n",
    "- downsacling at 25 Hz "
   ]
  },
  {
   "cell_type": "code",
   "execution_count": 3,
   "id": "fb802656",
   "metadata": {},
   "outputs": [],
   "source": [
    "acc_data_cleaned = pd.read_pickle('../data/acc/29March2024/pickledData/pickled3.pkl')\n",
    "label_data_cleaned = pd.read_csv('../data/labels/29March2024/auto_3_labels.csv')\n",
    "acc_data_raw = pd.read_csv('../data/acc/test_data/raw_data/labe-1_eRickshaw_AccData_2024-05-19 09 31_Auto.csv')"
   ]
  },
  {
   "cell_type": "code",
   "execution_count": 4,
   "id": "eb3a255b-68ed-4c01-b975-16a4c33eca6e",
   "metadata": {},
   "outputs": [],
   "source": [
    "date = '29March2024'\n",
    "data_num = 3"
   ]
  },
  {
   "cell_type": "code",
   "execution_count": 5,
   "id": "c6597c07-b8a3-484b-a8a3-5d970d7c30a0",
   "metadata": {},
   "outputs": [
    {
     "name": "stdout",
     "output_type": "stream",
     "text": [
      "0      2\n",
      "1      2\n",
      "2      2\n",
      "3      2\n",
      "4      2\n",
      "      ..\n",
      "355    1\n",
      "356    1\n",
      "357    1\n",
      "358    1\n",
      "359    1\n",
      "Name: Label, Length: 360, dtype: int64\n"
     ]
    }
   ],
   "source": [
    "print(label_data_cleaned['Label'])"
   ]
  },
  {
   "cell_type": "code",
   "execution_count": 6,
   "id": "d0893eac",
   "metadata": {},
   "outputs": [],
   "source": [
    "# from pre_process import PreSample, StandardPreProcessor\n",
    "# acc_data_cleaned = StandardPreProcessor(acc_data_raw).get_preprocess_data()\n",
    "# acc_data_cleaned = PreSample(acc_data_cleaned).get_presample_data()"
   ]
  },
  {
   "cell_type": "code",
   "execution_count": 7,
   "id": "576a86b1-9ba3-467a-ab26-8c70a6d2860a",
   "metadata": {},
   "outputs": [],
   "source": [
    "# if 'accTime' not in acc_data_cleaned:\n",
    "#     acc_data_cleaned.rename(columns = {'Time': 'accTime'}, inplace = True) \n",
    "if 'Latitude' not in acc_data_cleaned:\n",
    "    acc_data_cleaned.rename(columns = {'Lat': 'Latitude'}, inplace = True) \n",
    "    acc_data_cleaned.rename(columns = {'Lng': 'Longitude'}, inplace = True) \n",
    "if 'accTime' not in acc_data_raw:\n",
    "    acc_data_raw.rename(columns = {'Time': 'accTime'}, inplace = True) \n",
    "if 'Latitude' not in acc_data_raw:\n",
    "    acc_data_raw.rename(columns = {'Lat': 'Latitude'}, inplace = True) \n",
    "    acc_data_raw.rename(columns = {'Lng': 'Longitude'}, inplace = True) "
   ]
  },
  {
   "cell_type": "markdown",
   "id": "d3d76039",
   "metadata": {},
   "source": [
    "### GETTING LABEL DATA IN THE CORRECT TIME FRAME"
   ]
  },
  {
   "cell_type": "code",
   "execution_count": 8,
   "id": "78519d01",
   "metadata": {},
   "outputs": [
    {
     "name": "stdout",
     "output_type": "stream",
     "text": [
      "0      1.711709e+09\n",
      "1      1.711709e+09\n",
      "2      1.711709e+09\n",
      "3      1.711709e+09\n",
      "4      1.711709e+09\n",
      "           ...     \n",
      "355    1.711709e+09\n",
      "356    1.711709e+09\n",
      "357    1.711709e+09\n",
      "358    1.711709e+09\n",
      "359    1.711709e+09\n",
      "Length: 360, dtype: float64\n",
      "0        1.716111e+09\n",
      "1        1.716111e+09\n",
      "2        1.716111e+09\n",
      "3        1.716111e+09\n",
      "4        1.716111e+09\n",
      "             ...     \n",
      "11427    1.716111e+09\n",
      "11428    1.716111e+09\n",
      "11429    1.716111e+09\n",
      "11430    1.716111e+09\n",
      "11431    1.716111e+09\n",
      "Length: 11432, dtype: float64\n",
      "0     -4401691.714\n",
      "1     -4401691.429\n",
      "2     -4401690.428\n",
      "3     -4401689.428\n",
      "4     -4401688.428\n",
      "          ...     \n",
      "355   -4401362.428\n",
      "356   -4401361.428\n",
      "357   -4401360.428\n",
      "358   -4401359.428\n",
      "359   -4401358.428\n",
      "Length: 360, dtype: float64\n"
     ]
    }
   ],
   "source": [
    "if label_data_cleaned['Time'].dtype != float:\n",
    "    from datetime import datetime\n",
    "    time = label_data_cleaned['Time']\n",
    "    time = [datetime.strptime(x, '%Y-%m-%d %H:%M:%S:%f') for x in time]\n",
    "    time = pd.Series(time)\n",
    "    time = time.apply(lambda x: x.timestamp())\n",
    "    print(time)\n",
    "\n",
    "    time_ = acc_data_raw['accTime']\n",
    "    time_ = [datetime.strptime(x, '%Y-%m-%d %H:%M:%S:%f') for x in time_]\n",
    "    time_ = pd.Series(time_)\n",
    "    time_ = time_.apply(lambda x: x.timestamp())\n",
    "    acc_data_raw['accTime'] = time_\n",
    "    print(time_)\n",
    "\n",
    "    time = time - time_[0]\n",
    "    print(time)\n",
    "    label_data_cleaned['Time'] = time\n",
    "    label_data_cleaned.head()"
   ]
  },
  {
   "cell_type": "code",
   "execution_count": 9,
   "id": "89e6950f-b367-4f3b-8f81-8f8fbcab1f9e",
   "metadata": {},
   "outputs": [
    {
     "data": {
      "text/plain": [
       "(array([3.000e+00, 1.000e+00, 7.000e+00, 8.700e+01, 1.700e+02, 4.830e+02,\n",
       "        3.666e+03, 2.830e+03, 8.500e+02, 3.334e+03]),\n",
       " array([15.15151865, 20.3030928 , 25.45466694, 30.60624108, 35.75781522,\n",
       "        40.90938936, 46.0609635 , 51.21253764, 56.36411179, 61.51568593,\n",
       "        66.66726007]),\n",
       " <BarContainer object of 10 artists>)"
      ]
     },
     "execution_count": 9,
     "metadata": {},
     "output_type": "execute_result"
    },
    {
     "data": {
      "image/png": "[encoded data removed]",
      "text/plain": [
       "<Figure size 640x480 with 1 Axes>"
      ]
     },
     "metadata": {},
     "output_type": "display_data"
    }
   ],
   "source": [
    "acc_data_raw['accTime'] = acc_data_raw['accTime'] - acc_data_raw['accTime'][0]\n",
    "time_arr = acc_data_raw['accTime'].to_numpy()\n",
    "freq_arr = np.array([1/(time_arr[i+1]-time_arr[i]) for i in range(len(time_arr)-1)])\n",
    "plt.hist(freq_arr)"
   ]
  },
  {
   "cell_type": "markdown",
   "id": "e79815f8",
   "metadata": {},
   "source": [
    "## PLOTTING RAW DATA"
   ]
  },
  {
   "cell_type": "code",
   "execution_count": 10,
   "id": "7cfa5572",
   "metadata": {},
   "outputs": [
    {
     "name": "stderr",
     "output_type": "stream",
     "text": [
      "\n",
      "KeyboardInterrupt\n",
      "\n"
     ]
    }
   ],
   "source": [
    "acc_data = pd.read_csv('../data/acc_data/17thApril2024/dattamanadir_talawadefata_AccData_2024-04-17 12_44_Auto.csv')\n",
    "label_data = pd.read_csv('../data/labels/17thApril2024/2024-04-17 12_44_42-dattamandir_talawadefata.csv')\n",
    "from datetime import datetime\n",
    "time = acc_data['accTime']\n",
    "time = [datetime.strptime(x, '%Y-%m-%d %H:%M:%S:%f') for x in time]\n",
    "time = pd.Series(time)\n",
    "time = time.apply(lambda x: x.timestamp())\n",
    "\n",
    "time_ = label_data['Time']\n",
    "time_ = [datetime.strptime(x, '%Y-%m-%d %H:%M:%S:%f') for x in time_]\n",
    "time_ = pd.Series(time_)\n",
    "time_ = time_.apply(lambda x: x.timestamp())\n",
    "\n",
    "time = time - time[0]\n",
    "time_ = time_ - time[0]\n",
    "\n",
    "acc_data['accTime'] = time\n",
    "label_data['Time'] = time\n",
    "plt.figure(figsize=(12,5))\n",
    "plt.plot(acc_data['accTime'], acc_data['y_acc'])\n",
    "\n"
   ]
  },
  {
   "cell_type": "code",
   "execution_count": null,
   "id": "014eed98",
   "metadata": {},
   "outputs": [],
   "source": [
    "label_data = pd.read_csv('../data/labels/17thApril2024/2024-04-17 12_44_42-dattamandir_talawadefata.csv')\n",
    "plt.figure(figsize=(12,5))\n",
    "plt.plot(label_data['Label'])"
   ]
  },
  {
   "cell_type": "code",
   "execution_count": null,
   "id": "4db0c3a6",
   "metadata": {},
   "outputs": [],
   "source": [
    "if DEBUG:\n",
    "    toi = (350,950)\n",
    "\n",
    "    plt.figure(figsize=(12,5))\n",
    "    plt.plot(acc_data_cleaned[(acc_data_cleaned['Time']>toi[0]) & (acc_data_cleaned['Time']<toi[1])]['Time'],\n",
    "             acc_data_cleaned[(acc_data_cleaned['Time']>toi[0]) & (acc_data_cleaned['Time']<toi[1])]['y_acc'],\n",
    "             color='red')\n",
    "\n",
    "    plt.plot(label_data_cleaned[(label_data_cleaned['Time']>toi[0]) & (label_data_cleaned['Time']<toi[1])]['Time'],\n",
    "             label_data_cleaned[(label_data_cleaned['Time']>toi[0]) & (label_data_cleaned['Time']<toi[1])]['Label'],\n",
    "             color='g')\n",
    "    plt.grid()\n",
    "    plt.show()"
   ]
  },
  {
   "cell_type": "markdown",
   "id": "e16e6dac",
   "metadata": {},
   "source": [
    "###### CALCULATING MOVING AVERAGE"
   ]
  },
  {
   "cell_type": "code",
   "execution_count": null,
   "id": "16a0dc4e",
   "metadata": {},
   "outputs": [],
   "source": [
    "z_acc = acc_data_cleaned['z_acc']\n",
    "temp = []\n",
    "for i in range(len(z_acc)-10):\n",
    "    avg = np.mean(z_acc[i:i+10])\n",
    "    temp.append(avg)"
   ]
  },
  {
   "cell_type": "code",
   "execution_count": null,
   "id": "cd6f460c",
   "metadata": {},
   "outputs": [],
   "source": [
    "if DEBUG:\n",
    "    plt.figure(figsize=(12,5))\n",
    "    plt.plot(temp)\n",
    "    plt.plot()"
   ]
  },
  {
   "cell_type": "markdown",
   "id": "01883d7f",
   "metadata": {},
   "source": [
    "# RESAMPLING \n",
    "we will be fitting a bernstien polynomial to the given sample data and the resample it at 50 Hz to get uniform freq data "
   ]
  },
  {
   "cell_type": "code",
   "execution_count": null,
   "id": "2394dab3",
   "metadata": {},
   "outputs": [],
   "source": [
    "def fit_BPoly(df, resampling_freq):\n",
    "    x_acc = np.reshape(df['x_acc'], (-1,1))\n",
    "    y_acc = np.reshape(df['y_acc'], (-1,1))\n",
    "    z_acc = np.reshape(df['z_acc'], (-1,1))\n",
    "    t = np.array(df['Time'])\n",
    "    #fitting data \n",
    "    bpoly_x = BPoly.from_derivatives(t, x_acc)\n",
    "    bpoly_y = BPoly.from_derivatives(t, y_acc)\n",
    "    bpoly_z = BPoly.from_derivatives(t, z_acc)\n",
    "    #resampling @50Hz\n",
    "    resample_t = np.linspace(0, t[-1], int(resampling_freq * t[-1]))\n",
    "#     print(resample_t)\n",
    "    resample_x_acc = bpoly_x(resample_t)\n",
    "    resample_y_acc = bpoly_y(resample_t)\n",
    "    resample_z_acc = bpoly_z(resample_t)\n",
    "    #creating a new df\n",
    "    df_new = pd.DataFrame({'Time': resample_t, 'x_acc': resample_x_acc, 'y_acc': resample_y_acc, 'z_acc': resample_z_acc})\n",
    "    return df_new\n",
    "    "
   ]
  },
  {
   "cell_type": "code",
   "execution_count": null,
   "id": "e7a3349f",
   "metadata": {},
   "outputs": [],
   "source": [
    "acc_data_new = fit_BPoly(acc_data_cleaned, resampling_freq)\n",
    "acc_data_new.head()"
   ]
  },
  {
   "cell_type": "markdown",
   "id": "d5a1bf88",
   "metadata": {},
   "source": [
    "### VISUALISING DATA AFTER FITTING BERNSTIEN"
   ]
  },
  {
   "cell_type": "code",
   "execution_count": null,
   "id": "e82eece4",
   "metadata": {},
   "outputs": [],
   "source": [
    "#mention time range in seconds\n",
    "if DEBUG:\n",
    "    time_of_interest = (5,6) #to see the entire graph use (0,t[-1])\n",
    "    time_original = acc_data_cleaned[(acc_data_cleaned['Time'] < time_of_interest[1]) & (acc_data_cleaned['Time'] > time_of_interest[0])]['Time']\n",
    "    x_acc_orig = acc_data_cleaned[(acc_data_cleaned['Time'] < time_of_interest[1]) & (acc_data_cleaned['Time'] > time_of_interest[0])]['x_acc']\n",
    "    y_acc_orig = acc_data_cleaned[(acc_data_cleaned['Time'] < time_of_interest[1]) & (acc_data_cleaned['Time'] > time_of_interest[0])]['y_acc']\n",
    "    z_acc_orig = acc_data_cleaned[(acc_data_cleaned['Time'] < time_of_interest[1]) & (acc_data_cleaned['Time'] > time_of_interest[0])]['z_acc']\n",
    "\n",
    "    fig,ax = plt.subplots(nrows=3,ncols=1, figsize=(8,15))\n",
    "\n",
    "    ax[0].plot(time_original, x_acc_orig, label = 'pre resampling', color='green', linewidth = 2 , marker='o', linestyle='-', alpha = 0.7)\n",
    "    ax[0].plot(acc_data_new['Time'][int(time_of_interest[0]*resampling_freq):int(time_of_interest[1]*resampling_freq)], \n",
    "               acc_data_new['x_acc'][int(time_of_interest[0]*resampling_freq):int(time_of_interest[1]*resampling_freq)], \n",
    "               label = 'post resampling', color = 'red',linewidth=2, linestyle='--')\n",
    "    #ax[0].plot(label_data_cleaned[(label_data_cleaned['Time'] < time_of_interest[1]) & (label_data_cleaned['Time'] > time_of_interest[0])]['Time'], \n",
    "    #            label_data_cleaned[(label_data_cleaned['Time'] < time_of_interest[1]) & (label_data_cleaned['Time'] > time_of_interest[0])]['Label'],\n",
    "    #            label='labels', color='blue')\n",
    "    ax[0].set_title('x_acc vs Time')\n",
    "    ax[0].legend()\n",
    "    ax[0].grid()\n",
    "\n",
    "    ax[1].plot(time_original, y_acc_orig, label = 'pre resampling', color='green', linewidth = 2, marker='o', linestyle='-', alpha=0.7)\n",
    "    # ax[1].plot(acc_data_new['Time'][int(time_of_interest[0]*resampling_freq):int(time_of_interest[1]*resampling_freq)], \n",
    "    #            acc_data_new['y_acc'][int(time_of_interest[0]*resampling_freq):int(time_of_interest[1]*resampling_freq)], \n",
    "    #            label = 'resampled data', color = 'blue',linewidth=2, linestyle='-', marker='o')\n",
    "    ax[1].plot(acc_data_new['Time'][int(time_of_interest[0]*resampling_freq):int(time_of_interest[1]*resampling_freq)], \n",
    "               acc_data_new['y_acc'][int(time_of_interest[0]*resampling_freq):int(time_of_interest[1]*resampling_freq)], \n",
    "               label = 'fitted curve', color = 'red',linewidth=2, linestyle='--')\n",
    "    # ax[1].plot(label_data_cleaned[(label_data_cleaned['Time'] < time_of_interest[1]) & (label_data_cleaned['Time'] > time_of_interest[0])]['Time'], \n",
    "    #            label_data_cleaned[(label_data_cleaned['Time'] < time_of_interest[1]) & (label_data_cleaned['Time'] > time_of_interest[0])]['Label'],\n",
    "    #            label='labels', color='blue')\n",
    "    \n",
    "    ax[1].set_title('y_acc vs Time')\n",
    "    ax[1].legend()\n",
    "    ax[1].grid()\n",
    "\n",
    "    ax[2].plot(time_original, z_acc_orig, label = 'pre resampling', linewidth=2, color='green', marker='o', linestyle='-', alpha=0.7)\n",
    "    ax[2].plot(acc_data_new['Time'][int(time_of_interest[0]*resampling_freq):int(time_of_interest[1]*resampling_freq)], \n",
    "               acc_data_new['z_acc'][int(time_of_interest[0]*resampling_freq):int(time_of_interest[1]*resampling_freq)], \n",
    "               label = 'post resampling', color = 'red',linewidth=2, linestyle='--')\n",
    "    # ax[2].plot(resample_t[int(time_of_interest[0]*resampling_freq):int(time_of_interest[1]*resampling_freq)], \n",
    "    #            resample_z_acc[int(time_of_interest[0]*resampling_freq):int(time_of_interest[1]*resampling_freq)], \n",
    "    #            label = 'post resampling', color = 'green', linewidth=1)\n",
    "    ax[2].set_title('z_acc vs Time')\n",
    "    ax[2].legend()\n",
    "    ax[2].grid()\n",
    "\n",
    "    plt.show()\n"
   ]
  },
  {
   "cell_type": "code",
   "execution_count": null,
   "id": "27af7578",
   "metadata": {},
   "outputs": [],
   "source": [
    "def get_distance(df):\n",
    "    distances = np.array([float(distance.geodesic((df['Latitude'].iloc[i-1], df['Longitude'].iloc[i-1]),\n",
    "                      (df['Latitude'].iloc[i], df['Longitude'].iloc[i])).meters)\n",
    "             for i in range(1, len(df))])\n",
    "    distances = np.insert(distances, 0,0)\n",
    "    return distances\n"
   ]
  },
  {
   "cell_type": "code",
   "execution_count": null,
   "id": "8167d85d",
   "metadata": {},
   "outputs": [],
   "source": [
    "def get_velocity (df):\n",
    "    p_time, p_vel, prev, prev_prev, per_vel_chng = 0, 0, 0, 0, 0\n",
    "    velocity = np.zeros(len(df))\n",
    "    p_vel_arr = np.zeros(len(df))\n",
    "    n_vel_arr = np.zeros(len(df))\n",
    "    per_vel_chng_arr = np.zeros(len(df))\n",
    "    for i in range (0, len(df)):\n",
    "        if df['distance'][i] != 0:\n",
    "            p_vel_arr[prev:i] = p_vel\n",
    "            vel = df['distance'][i]/(df['Time'][i]- p_time)\n",
    "            if vel != 0:\n",
    "                per_vel_chng = (vel-p_vel)/vel\n",
    "            per_vel_chng_arr[prev:i] = per_vel_chng\n",
    "            velocity[prev:i] = vel\n",
    "            n_vel_arr[prev_prev: prev] = vel\n",
    "            prev_prev = prev\n",
    "            p_time, p_vel, prev = df['Time'][i], vel, i\n",
    "\n",
    "    velocity[prev: len(df)] = p_vel\n",
    "    per_vel_chng_arr[prev:len(df)] = per_vel_chng\n",
    "    df['Velocity'] = velocity\n",
    "    df['Per_Vel_Chng'] = per_vel_chng_arr\n",
    "    df['Previous_velocity'] = p_vel_arr\n",
    "    df['Next_velocity'] = n_vel_arr\n",
    "    return df\n",
    "    "
   ]
  },
  {
   "cell_type": "markdown",
   "id": "d5f3e1a4",
   "metadata": {},
   "source": [
    "## CALCULTAING VELOCITY \n",
    "\n",
    "#### calculating distane at places where lat long change"
   ]
  },
  {
   "cell_type": "code",
   "execution_count": null,
   "id": "a6c748af",
   "metadata": {},
   "outputs": [],
   "source": [
    "acc_data_cleaned['distance'] = get_distance(acc_data_cleaned)\n",
    "acc_data_cleaned = get_velocity(acc_data_cleaned)"
   ]
  },
  {
   "cell_type": "markdown",
   "id": "f8089f06",
   "metadata": {},
   "source": [
    "#### plot distance vs time "
   ]
  },
  {
   "cell_type": "code",
   "execution_count": null,
   "id": "e14cc7bb-3cb3-4005-8983-d487fbb11021",
   "metadata": {},
   "outputs": [],
   "source": [
    "DEBUG = False"
   ]
  },
  {
   "cell_type": "code",
   "execution_count": null,
   "id": "eac8d01b",
   "metadata": {},
   "outputs": [],
   "source": [
    "DEBUG = True"
   ]
  },
  {
   "cell_type": "code",
   "execution_count": null,
   "id": "e568ea8d",
   "metadata": {},
   "outputs": [],
   "source": [
    "if DEBUG:\n",
    "    plt.figure(figsize=(10,6))\n",
    "    plt.plot(acc_data_cleaned['Time'], acc_data_cleaned['distance'])\n",
    "    plt.ylabel('Distance(m)')\n",
    "    plt.xlabel('Time(s)')\n",
    "    plt.grid()"
   ]
  },
  {
   "cell_type": "markdown",
   "id": "9a1df51b",
   "metadata": {},
   "source": [
    "#### plotting velocity against time"
   ]
  },
  {
   "cell_type": "code",
   "execution_count": null,
   "id": "ccace82e",
   "metadata": {},
   "outputs": [],
   "source": [
    "if DEBUG:\n",
    "    plt.figure(figsize=(10,6))\n",
    "    plt.plot(acc_data_cleaned['Time'], acc_data_cleaned['Velocity'])\n",
    "#     plt.plot(acc_data_cleaned['Time'], acc_data_cleaned['Previous_velocity'])\n",
    "#     plt.plot(acc_data_cleaned['Time'], acc_data_cleaned['Next_velocity'])\n",
    "    plt.xlabel('Time(s)')\n",
    "    plt.ylabel('Velocity(m/s)')\n",
    "    plt.grid()"
   ]
  },
  {
   "cell_type": "code",
   "execution_count": null,
   "id": "c51d5df3-aa3f-4cd9-9648-0fdebf37b2de",
   "metadata": {},
   "outputs": [],
   "source": [
    "if DEBUG:\n",
    "    vel = acc_data_cleaned['Velocity'].to_numpy()\n",
    "    temp_100 = []\n",
    "    for i in range(100,len(vel)):\n",
    "        mean = np.mean(vel[i-100:i])\n",
    "        temp_100.append(mean)\n",
    "        \n",
    "    temp_10 = []\n",
    "    for i in range(10,len(vel)):\n",
    "        mean = np.mean(vel[i-10:i])\n",
    "        temp_10.append(mean)\n",
    "    \n",
    "    plt.figure(figsize=(12,5))\n",
    "    plt.plot(vel)\n",
    "    plt.plot(temp_10)\n",
    "    plt.plot(temp_100)\n",
    "    plt.show()\n",
    "    \n",
    "    "
   ]
  },
  {
   "cell_type": "code",
   "execution_count": null,
   "id": "1515d62f-fc37-47d2-b135-9e35402efe34",
   "metadata": {},
   "outputs": [],
   "source": [
    "if DEBUG:\n",
    "    plt.figure(figsize=(12,6))\n",
    "    plt.plot(acc_data_cleaned['Time'], acc_data_cleaned['Velocity'])\n",
    "    # plt.plot(acc_data_cleaned['Time'], acc_data_cleaned['Previous_velocity'])\n",
    "    # plt.plot(acc_data_cleaned['Time'], acc_data_cleaned['Next_velocity'])\n",
    "    plt.plot(acc_data_cleaned['Time'], acc_data_cleaned['Per_Vel_Chng'])\n",
    "    plt.legend(['Velocity', 'Per_Velocity_Change'])\n",
    "    plt.grid()"
   ]
  },
  {
   "cell_type": "markdown",
   "id": "f7f42282",
   "metadata": {},
   "source": [
    "## ADDING  VELOCITY DATA TO ACC DATA \n",
    "\n",
    "#### Minor change might be needed\n",
    "Ideally the labels sould be based on the logic if label_data_time[j]<acc_data_time[i] < label_data_time[j+1] then we shoul assign it with the label corr. to j that is what 2 does but given there is time diffrenece of 10 seconds the initial values should be asssigned a value NAN that is what mergeed_df_2 does "
   ]
  },
  {
   "cell_type": "code",
   "execution_count": null,
   "id": "0247e8e5-eec2-4084-821a-d392ee25e792",
   "metadata": {},
   "outputs": [],
   "source": [
    "acc_data_new.head()"
   ]
  },
  {
   "cell_type": "code",
   "execution_count": null,
   "id": "970e23b8",
   "metadata": {},
   "outputs": [],
   "source": [
    "merged_df_1 = pd.merge_asof(acc_data_new, acc_data_cleaned[['Time', 'Velocity', 'Previous_velocity', 'Per_Vel_Chng', 'Next_velocity', 'Latitude', 'Longitude']], on='Time', direction='nearest')\n",
    "# read the markdown\n",
    "# merged_df_2 = pd.merge_asof(acc_data_new, label_data_cleaned[['Time', 'Label', 'velocity']], on='Time', direction='backward')\n",
    "acc_data_new = merged_df_1\n",
    "acc_data_new.head()"
   ]
  },
  {
   "cell_type": "markdown",
   "id": "6b3893a9",
   "metadata": {},
   "source": [
    "## ADDING LABEL TO ACC DATA"
   ]
  },
  {
   "cell_type": "code",
   "execution_count": null,
   "id": "360dd187-ec8a-4fa3-9632-0cfa68b32b5c",
   "metadata": {},
   "outputs": [],
   "source": [
    "print(label_data_cleaned)"
   ]
  },
  {
   "cell_type": "code",
   "execution_count": null,
   "id": "44419e14",
   "metadata": {},
   "outputs": [],
   "source": [
    "merged_df_2 = pd.merge_asof(acc_data_new, label_data_cleaned[['Time', 'Label']], on='Time', direction='nearest')\n",
    "acc_data_new = merged_df_2\n",
    "acc_data_new.head()"
   ]
  },
  {
   "cell_type": "markdown",
   "id": "a193711b",
   "metadata": {},
   "source": [
    "## PLOTTING VEL RESAMPLED DATA AND LABELS"
   ]
  },
  {
   "cell_type": "code",
   "execution_count": null,
   "id": "883c08e7",
   "metadata": {},
   "outputs": [],
   "source": [
    "toi = (0,350)\n",
    "\n",
    "plt.figure(figsize=(12,5))\n",
    "plt.plot(acc_data_new['Time'][int(toi[0]*resampling_freq):int(toi[1]*resampling_freq)],\n",
    "         acc_data_new['x_acc'][int(toi[0]*resampling_freq):int(toi[1]*resampling_freq)],\n",
    "         label = 'accn data', color='r', alpha=0.8)\n",
    "\n",
    "plt.plot(acc_data_new['Time'][int(toi[0]*resampling_freq):int(toi[1]*resampling_freq)],\n",
    "         acc_data_new['Velocity'][int(toi[0]*resampling_freq):int(toi[1]*resampling_freq)],\n",
    "         label = 'Velocity', color='b')\n",
    "\n",
    "plt.plot(acc_data_new['Time'][int(toi[0]*resampling_freq):int(toi[1]*resampling_freq)],\n",
    "         acc_data_new['Label'][int(toi[0]*resampling_freq):int(toi[1]*resampling_freq)],\n",
    "         label = 'label', color='g', linewidth=3)\n",
    "\n",
    "plt.plot(acc_data_new['Time'][int(toi[0]*resampling_freq):int(toi[1]*resampling_freq)],\n",
    "         acc_data_new['Per_Vel_Chng'][int(toi[0]*resampling_freq):int(toi[1]*resampling_freq)],\n",
    "         label = 'Per_Vel_Chng', color='orange')\n",
    "\n",
    "plt.legend()\n",
    "plt.grid()\n",
    "plt.show()"
   ]
  },
  {
   "cell_type": "markdown",
   "id": "18991712",
   "metadata": {},
   "source": [
    "## z acc vehicle vs velocity "
   ]
  },
  {
   "cell_type": "code",
   "execution_count": null,
   "id": "9638d197",
   "metadata": {},
   "outputs": [],
   "source": [
    "if DEBUG:\n",
    "    toi = (100,150)\n",
    "\n",
    "    plt.figure(figsize=(12,5))\n",
    "    plt.plot(acc_data_new['Time'][int(toi[0]*resampling_freq):int(toi[1]*resampling_freq)],\n",
    "             acc_data_new['z_acc'][int(toi[0]*resampling_freq):int(toi[1]*resampling_freq)],\n",
    "             label = 'accn data', color='r')\n",
    "\n",
    "    plt.plot(acc_data_new['Time'][int(toi[0]*resampling_freq):int(toi[1]*resampling_freq)],\n",
    "             acc_data_new['Velocity'][int(toi[0]*resampling_freq):int(toi[1]*resampling_freq)],\n",
    "             label = 'velocity', color='b')\n",
    "\n",
    "    plt.legend()\n",
    "    plt.grid()\n",
    "    plt.show()"
   ]
  },
  {
   "cell_type": "markdown",
   "id": "1abe54f3",
   "metadata": {},
   "source": [
    "# REORIENTATION \n",
    "## EULER ANGLE APPROACH \n",
    "rotating the data in a way that the y axis is perpendicular to the surface o the road the reorientation done is based on the maen value of the acceleration calculated in one second which could be changed by changing the tuning time variable "
   ]
  },
  {
   "cell_type": "code",
   "execution_count": null,
   "id": "df5bb7e0-0a11-4ac2-bf55-77286328e7d9",
   "metadata": {},
   "outputs": [],
   "source": [
    "ax = acc_data_new['x_acc'][:int(resampling_freq*tuning_time)].mean()\n",
    "ay = acc_data_new['y_acc'][:int(resampling_freq*tuning_time)].mean()\n",
    "az = acc_data_new['z_acc'][:int(resampling_freq*tuning_time)].mean()\n",
    "\n",
    "alpha = np.arctan2(ay, az)\n",
    "beta = np.arctan(-ax/np.sqrt(ay**2 + az**2))\n",
    "rotation_matrix_alpha = np.array(\n",
    "    [[1,0,0], \n",
    "    [0,np.cos(alpha), -np.sin(alpha)],\n",
    "    [0, np.sin(alpha), np.cos(alpha)]]\n",
    ")\n",
    "rotation_matrix_beta = np.array(\n",
    "    [[np.cos(beta), 0, np.sin(beta)],\n",
    "    [0,1,0],\n",
    "    [-np.sin(beta), 0, np.cos(beta)]]\n",
    ")\n",
    "rotation_matrix_1 = rotation_matrix_beta@rotation_matrix_alpha\n",
    "rotated_1 = np.dot(rotation_matrix_1, np.array([ax, ay, az]))\n",
    "gamma = np.arctan2(rotated_1[0], rotated_1[1])\n",
    "rotation_matrix_gamma = np.array(\n",
    "    [[np.cos(gamma), -np.sin(gamma), 0], \n",
    "    [np.sin(gamma), np.cos(gamma), 0], \n",
    "    [0, 0, 1]]\n",
    ")\n",
    "rotation_matrix = rotation_matrix_gamma@rotation_matrix_1\n",
    "data = acc_data_new[['x_acc', 'y_acc', 'z_acc']]\n",
    "rotated_data = np.dot(rotation_matrix, np.array(data).T)\n",
    "if DEBUG:\n",
    "    print(\"Reoriented [ax, ay, az] =\", rotated_data[:, :int(resampling_freq*tuning_time)].mean(axis=1))"
   ]
  },
  {
   "cell_type": "code",
   "execution_count": null,
   "id": "774c46c4",
   "metadata": {},
   "outputs": [],
   "source": [
    "# theta =  -np.arccos(acc_data_new['y_acc'][:int(resampling_freq*tuning_time)].mean()/9.81)\n",
    "# # rotation_matrix = np.array([[np.cos(theta), 0, np.sin(theta)], [0, 1, 0], [-np.sin(theta), 0, np.cos(theta)]])\n",
    "# rotation_matrix = np.array([[1,0,0], [0,np.cos(theta), -np.sin(theta)],[0, np.sin(theta), np.cos(theta)]])\n",
    "# data = acc_data_new[['x_acc', 'y_acc', 'z_acc']]\n",
    "# rotated_data = np.dot(rotation_matrix, np.array(data).T)\n",
    "# rotated_data[1][:int(resampling_freq*tuning_time)].mean()"
   ]
  },
  {
   "cell_type": "markdown",
   "id": "67614b5a",
   "metadata": {},
   "source": [
    "### visualising data rotated using euler angle approach "
   ]
  },
  {
   "cell_type": "code",
   "execution_count": null,
   "id": "fea83884",
   "metadata": {
    "scrolled": true
   },
   "outputs": [],
   "source": [
    "if DEBUG:\n",
    "    time_of_intrest = (10,15) #time in seconds to see the complete data use 120\n",
    "    x_acc_euler_data = rotated_data[0]\n",
    "    y_acc_euler_data = rotated_data[1]\n",
    "    z_acc_euler_data = rotated_data[2]\n",
    "\n",
    "    fig,ax = plt.subplots(nrows = 3, ncols = 1, figsize=(18,18))\n",
    "    ax[0].set_title('x_acc before and after rotation')\n",
    "    ax[0].plot(acc_data_new['Time'][int(resampling_freq*time_of_intrest[0]):int(resampling_freq*time_of_intrest[1])], \n",
    "               x_acc_euler_data[int(resampling_freq*time_of_intrest[0]):int(resampling_freq*time_of_intrest[1])], \n",
    "               label='post-rotation', color = 'blue', alpha = 0.5)\n",
    "    ax[0].axhline(x_acc_euler_data[int(resampling_freq*time_of_intrest[0]):int(resampling_freq*time_of_intrest[1])].mean(), label = 'mean line', color= 'red')\n",
    "    ax[0].annotate(f'Mean: {x_acc_euler_data[int(resampling_freq*time_of_intrest[0]):int(resampling_freq*time_of_intrest[1])].mean():.2f}',\n",
    "                   xy=(0.5,x_acc_euler_data[int(resampling_freq*time_of_intrest[0]):int(resampling_freq*time_of_intrest[1])].mean()), \n",
    "                   xytext=(0.5, x_acc_euler_data[int(resampling_freq*time_of_intrest[0]):int(resampling_freq*time_of_intrest[1])].mean() + 1))\n",
    "    ax[0].legend()\n",
    "    ax[0].grid()\n",
    "\n",
    "    ax[1].set_title('y_acc before and after rotation')\n",
    "    ax[1].plot(acc_data_new['Time'][int(resampling_freq*time_of_intrest[0]):int(resampling_freq*time_of_intrest[1])],\n",
    "               y_acc_euler_data[int(resampling_freq*time_of_intrest[0]):int(resampling_freq*time_of_intrest[1])], \n",
    "               label='post-rotation', color = 'blue', alpha = 0.5)\n",
    "    ax[1].axhline(y_acc_euler_data[int(resampling_freq*time_of_intrest[0]):int(resampling_freq*time_of_intrest[1])].mean(), label = 'mean line', color= 'red')\n",
    "    ax[1].annotate(f'Mean: {y_acc_euler_data[int(resampling_freq*time_of_intrest[0]):int(resampling_freq*time_of_intrest[1])].mean():.2f}', \n",
    "                   xy=(0.5,y_acc_euler_data[int(resampling_freq*time_of_intrest[0]):int(resampling_freq*time_of_intrest[1])].mean()), \n",
    "                   xytext=(0.5, y_acc_euler_data[int(resampling_freq*time_of_intrest[0]):int(resampling_freq*time_of_intrest[1])].mean() + 1))\n",
    "    ax[1].legend()\n",
    "    ax[1].grid()\n",
    "\n",
    "    ax[2].set_title('z_acc before and after rotation')\n",
    "    ax[2].plot(acc_data_new['Time'][int(resampling_freq*time_of_intrest[0]):int(resampling_freq*time_of_intrest[1])], \n",
    "               z_acc_euler_data[int(resampling_freq*time_of_intrest[0]):int(resampling_freq*time_of_intrest[1])], \n",
    "               label='post-rotation', color = 'blue', alpha = 0.5)\n",
    "    ax[2].axhline(z_acc_euler_data[int(resampling_freq*time_of_intrest[0]):int(resampling_freq*time_of_intrest[1])].mean(), label = 'mean line', color= 'red')\n",
    "    ax[2].annotate(f'Mean: {z_acc_euler_data[int(resampling_freq*time_of_intrest[0]):int(resampling_freq*time_of_intrest[1])].mean():.2f}', \n",
    "                   xy=(0.5,z_acc_euler_data[int(resampling_freq*time_of_intrest[0]):int(resampling_freq*time_of_intrest[1])].mean()), \n",
    "                   xytext=(0.5, z_acc_euler_data[int(resampling_freq*time_of_intrest[0]):int(resampling_freq*time_of_intrest[1])].mean() + 1))\n",
    "    ax[2].legend()\n",
    "    ax[2].grid()\n",
    "\n",
    "    plt.show()"
   ]
  },
  {
   "cell_type": "markdown",
   "id": "32d60304",
   "metadata": {},
   "source": [
    "### visualising data points pre and post rotation on a 3-D plot "
   ]
  },
  {
   "cell_type": "code",
   "execution_count": null,
   "id": "796b13fb",
   "metadata": {},
   "outputs": [],
   "source": [
    "if plot_3d:\n",
    "    %matplotlib notebook\n",
    "    fig = plt.figure()\n",
    "    ax = fig.add_subplot(111, projection='3d')\n",
    "    time_of_intrest = 2 #for all the data points use 120\n",
    "    ax.scatter(acc_data_new['x_acc'][:int(resampling_freq*time_of_intrest)], \n",
    "               acc_data_new['y_acc'][:int(resampling_freq*time_of_intrest)], \n",
    "               acc_data_new['z_acc'][:int(resampling_freq*time_of_intrest)], \n",
    "               marker='o', color = 'red', label='raw data')\n",
    "    ax.scatter(rotated_data[0][:int(resampling_freq*time_of_intrest)],\n",
    "               rotated_data[1][:int(resampling_freq*time_of_intrest)],\n",
    "               rotated_data[2][:int(resampling_freq*time_of_intrest)], \n",
    "               marker = 'o', color = 'blue', label='euler angle reorientation')\n",
    "    ax.set_xlabel('X-axis')\n",
    "    ax.set_ylabel('Y-axis')\n",
    "    ax.set_zlabel('Z-axis')\n",
    "    ax.set_title('acc data points')\n",
    "    ax.legend()\n",
    "    plt.show()"
   ]
  },
  {
   "cell_type": "markdown",
   "id": "818b1a42",
   "metadata": {},
   "source": [
    "## UNCENTERED PCA APPROACH\n",
    "this approcah uses uncentered pca to come up with principal components which are treated as new axis for further analysis pca components are calculated by taking data specified in a range "
   ]
  },
  {
   "cell_type": "code",
   "execution_count": null,
   "id": "dc6b2ef3",
   "metadata": {},
   "outputs": [],
   "source": [
    "def PCA_transform(df):\n",
    "    M = np.array(df[['x_acc', 'y_acc', 'z_acc']])\n",
    "    MTM = np.matmul(M.T, M)\n",
    "    egval, egvect = eigh(MTM)\n",
    "    idx = egval.argsort()[::-1]\n",
    "    egval = egval[idx]\n",
    "    egvect = egvect[:, idx]\n",
    "    return egvect"
   ]
  },
  {
   "cell_type": "code",
   "execution_count": null,
   "id": "0c1091dc",
   "metadata": {},
   "outputs": [],
   "source": [
    "def get_data_for_pca(start,stop, df_input):\n",
    "    data = {\n",
    "    'x_acc' : df_input.loc[(df_input['Time'] > start) & (df_input['Time'] < stop), 'x_acc'],\n",
    "    'y_acc' : df_input.loc[(df_input['Time'] > start) & (df_input['Time'] < stop), 'y_acc'],\n",
    "    'z_acc' : df_input.loc[(df_input['Time'] > start) & (df_input['Time'] < stop), 'z_acc'],\n",
    "    'seconds' : df_input.loc[(df_input['Time'] > start) & (df_input['Time'] < stop), 'Time']\n",
    "    }\n",
    "    df_pca = pd.DataFrame(data)\n",
    "    return df_pca"
   ]
  },
  {
   "cell_type": "markdown",
   "id": "b23db678",
   "metadata": {},
   "source": [
    "### finding the principal components "
   ]
  },
  {
   "cell_type": "code",
   "execution_count": null,
   "id": "af515cda",
   "metadata": {},
   "outputs": [],
   "source": [
    "pca_df = get_data_for_pca(10,11,acc_data_new) #you can specify the start and end time in seconds \n",
    "egvect = PCA_transform(pca_df)\n",
    "egvect\n",
    "pc_1 = egvect[:][0]\n",
    "pc_2 = egvect[:][1]\n",
    "pc_3 = egvect[:][2]\n",
    "pca_y_acc = np.dot(acc_data_new[['x_acc', 'y_acc', 'z_acc']].values, pc_1)\n",
    "pca_x_acc = - np.dot(acc_data_new[['x_acc', 'y_acc', 'z_acc']].values, pc_2)\n",
    "pca_z_acc = np.dot(acc_data_new[['x_acc', 'y_acc', 'z_acc']].values, pc_3)"
   ]
  },
  {
   "cell_type": "markdown",
   "id": "5b5a78ad",
   "metadata": {},
   "source": [
    "### VISUALISING WHAT THE UNCETERED PCA FUNCTION IS DOING "
   ]
  },
  {
   "cell_type": "code",
   "execution_count": null,
   "id": "260d93df",
   "metadata": {},
   "outputs": [],
   "source": [
    "if plot_3d:\n",
    "    %matplotlib notebook\n",
    "    fig = plt.figure(figsize=(6,6))\n",
    "    ax = fig.add_subplot(111, projection='3d')\n",
    "    ax.scatter(acc_data_new['x_acc'][:250], acc_data_new['y_acc'][:250], acc_data_new['z_acc'][:250], marker='o')\n",
    "    ax.quiver(0, 0, 0, pc_1[0], pc_1[1], pc_1[2], color='red', label='pc1')\n",
    "    ax.quiver(0, 0, 0, pc_2[0], pc_2[1], pc_2[2], color='green', label='pc2')\n",
    "    ax.quiver(0, 0, 0, pc_3[0], pc_3[1], pc_3[2], color='orange', label='pc3')\n",
    "    ax.set_xlabel('X-axis')\n",
    "    ax.set_ylabel('Y-axis')\n",
    "    ax.set_zlabel('Z-axis')\n",
    "    ax.set_title('principal components visualised')\n",
    "    ax.legend()\n",
    "    plt.show()\n",
    "    %matplotlib inline"
   ]
  },
  {
   "cell_type": "code",
   "execution_count": null,
   "id": "c58a4c97",
   "metadata": {},
   "outputs": [],
   "source": [
    "if plot_3d:\n",
    "    %matplotlib notebook\n",
    "    fig = plt.figure()\n",
    "    ax = fig.add_subplot(111, projection='3d')\n",
    "    time_of_intrest = 2 #for all the data points use 120\n",
    "    ax.scatter(acc_data_new['x_acc'][:int(resampling_freq*time_of_intrest)], \n",
    "               acc_data_new['y_acc'][:int(resampling_freq*time_of_intrest)], \n",
    "               acc_data_new['z_acc'][:int(resampling_freq*time_of_intrest)], \n",
    "               marker='o', color = 'red', label='raw data')\n",
    "    ax.scatter(pca_x_acc[:int(resampling_freq*time_of_intrest)],\n",
    "               pca_z_acc[:int(resampling_freq*time_of_intrest)],\n",
    "               pca_y_acc[:int(resampling_freq*time_of_intrest)], \n",
    "               marker = 'o', color = 'blue', label='PCA reoriented data')\n",
    "    ax.set_xlabel('X-axis')\n",
    "    ax.set_ylabel('Y-axis')\n",
    "    ax.set_zlabel('Z-axis')\n",
    "    ax.set_title('acc data points')\n",
    "    ax.legend()\n",
    "    plt.show()"
   ]
  },
  {
   "cell_type": "markdown",
   "id": "d03b9311",
   "metadata": {},
   "source": [
    "### visualising data oriented using pca approach "
   ]
  },
  {
   "cell_type": "code",
   "execution_count": null,
   "id": "08753ef2",
   "metadata": {},
   "outputs": [],
   "source": [
    "%matplotlib inline\n",
    "if DEBUG:\n",
    "    time_of_intrest = (10,15) #time in seconds to see complete figure use 120\n",
    "    fig,ax = plt.subplots(ncols = 1, nrows=3, figsize = (12,12))\n",
    "\n",
    "    ax[0].plot(acc_data_new['Time'][int(resampling_freq*time_of_intrest[0]):int(resampling_freq*time_of_intrest[1])],\n",
    "               pca_y_acc[int(resampling_freq*time_of_intrest[0]):int(resampling_freq*time_of_intrest[1])], \n",
    "               color = 'red', label = 'pca_reoriented_data',alpha = 0.5)\n",
    "    ax[0].axhline(pca_y_acc[int(resampling_freq*time_of_intrest[0]):int(resampling_freq*time_of_intrest[1])].mean(), label='mean_line')\n",
    "    ax[0].legend()\n",
    "    ax[0].set_title('y_acc after pca reorientation')\n",
    "    ax[0].grid()\n",
    "\n",
    "    ax[1].plot(acc_data_new['Time'][int(resampling_freq*time_of_intrest[0]):int(resampling_freq*time_of_intrest[1])], \n",
    "               pca_z_acc[int(resampling_freq*time_of_intrest[0]):int(resampling_freq*time_of_intrest[1])], \n",
    "               color = 'red', label = 'pca_reoriented_data', alpha=0.5)\n",
    "    ax[1].axhline(pca_z_acc[int(resampling_freq*time_of_intrest[0]):int(resampling_freq*time_of_intrest[1])].mean(), label='mean_line')\n",
    "    ax[1].legend()\n",
    "    ax[1].set_title('z_acc after pca reorientation')\n",
    "    ax[1].grid()\n",
    "\n",
    "    ax[2].plot(acc_data_new['Time'][int(resampling_freq*time_of_intrest[0]):int(resampling_freq*time_of_intrest[1])],\n",
    "               pca_x_acc[int(resampling_freq*time_of_intrest[0]):int(resampling_freq*time_of_intrest[1])], \n",
    "               color = 'red', label = 'pca_reoriented_data', alpha= 0.5)\n",
    "    ax[2].axhline(pca_x_acc[int(resampling_freq*time_of_intrest[0]):int(resampling_freq*time_of_intrest[1])].mean(), label='mean_line')\n",
    "    ax[2].legend()\n",
    "    ax[2].set_title('x_acc after pca reorientation')\n",
    "    ax[2].grid()\n",
    "\n",
    "    plt.show()"
   ]
  },
  {
   "cell_type": "markdown",
   "id": "c78e8975",
   "metadata": {},
   "source": [
    "### PCA VS EULER ANGLE "
   ]
  },
  {
   "cell_type": "code",
   "execution_count": null,
   "id": "369e36d9",
   "metadata": {},
   "outputs": [],
   "source": [
    "if DEBUG:\n",
    "    time_of_intrest = (0,5) #time in seconds \n",
    "    fig,ax = plt.subplots(figsize = (12,12), nrows=3, ncols= 1)\n",
    "\n",
    "    ax[0].plot(acc_data_new['Time'][int(resampling_freq*time_of_intrest[0]):int(resampling_freq*time_of_intrest[1])], \n",
    "               pca_y_acc[int(resampling_freq*time_of_intrest[0]):int(resampling_freq*time_of_intrest[1])], \n",
    "               color = 'red', label = 'pca_reoriented_data',alpha = 0.5)\n",
    "    ax[0].plot(acc_data_new['Time'][int(resampling_freq*time_of_intrest[0]):int(resampling_freq*time_of_intrest[1])], \n",
    "               y_acc_euler_data[int(resampling_freq*time_of_intrest[0]):int(resampling_freq*time_of_intrest[1])], \n",
    "               label='euler_reoriented_data', color = 'blue', alpha = 0.7)\n",
    "    ax[0].legend()\n",
    "    ax[0].set_title('y_acc euler vs pca')\n",
    "    ax[0].grid()\n",
    "\n",
    "    ax[1].plot(acc_data_new['Time'][int(resampling_freq*time_of_intrest[0]):int(resampling_freq*time_of_intrest[1])], \n",
    "               pca_x_acc[int(resampling_freq*time_of_intrest[0]):int(resampling_freq*time_of_intrest[1])], \n",
    "               color = 'red', label = 'pca_reoriented_data',alpha = 0.5)\n",
    "    ax[1].plot(acc_data_new['Time'][int(resampling_freq*time_of_intrest[0]):int(resampling_freq*time_of_intrest[1])], \n",
    "               x_acc_euler_data[int(resampling_freq*time_of_intrest[0]):int(resampling_freq*time_of_intrest[1])], \n",
    "               label='euler_reoriented_data', color = 'blue', alpha = 0.7)\n",
    "    ax[1].legend()\n",
    "    ax[1].set_title('x_acc euler vs pca')\n",
    "    ax[1].grid()\n",
    "\n",
    "    ax[2].plot(acc_data_new['Time'][int(resampling_freq*time_of_intrest[0]):int(resampling_freq*time_of_intrest[1])],\n",
    "               pca_z_acc[int(resampling_freq*time_of_intrest[0]):int(resampling_freq*time_of_intrest[1])], \n",
    "               color = 'red', label = 'pca_reoriented_data',alpha = 0.5)\n",
    "    ax[2].plot(acc_data_new['Time'][int(resampling_freq*time_of_intrest[0]):int(resampling_freq*time_of_intrest[1])],\n",
    "               z_acc_euler_data[int(resampling_freq*time_of_intrest[0]):int(resampling_freq*time_of_intrest[1])],\n",
    "               label='euler_reoriented_data', color = 'blue', alpha = 0.7)\n",
    "    ax[2].legend()\n",
    "    ax[2].set_title('z_acc euler vs pca')\n",
    "    ax[2].grid()\n",
    "\n",
    "    plt.show()"
   ]
  },
  {
   "cell_type": "markdown",
   "id": "3064330c",
   "metadata": {},
   "source": [
    "#### saving the pca and euler data"
   ]
  },
  {
   "cell_type": "code",
   "execution_count": null,
   "id": "6d958ebe",
   "metadata": {},
   "outputs": [],
   "source": [
    "reoriented_data = {\n",
    "    'Time' : acc_data_new['Time'],\n",
    "    'x_acc_pca' : pca_x_acc,\n",
    "    'y_acc_pca' : pca_y_acc,\n",
    "    'z_acc_pca' : pca_z_acc,\n",
    "    'x_acc_euler': rotated_data[0],\n",
    "    'y_acc_euler': rotated_data[1],\n",
    "    'z_acc_euler': rotated_data[2],\n",
    "    'Label' : acc_data_new['Label'],\n",
    "    'Latitude' : acc_data_new['Latitude'],\n",
    "    'Longitude' : acc_data_new['Longitude'],\n",
    "    'Velocity' : acc_data_new['Velocity'],\n",
    "    'Previous_velocity': acc_data_new['Previous_velocity'],\n",
    "    'Next_velocity': acc_data_new['Next_velocity'],\n",
    "    'Per_Velocity_Chng': acc_data_new['Per_Vel_Chng'],\n",
    "}\n",
    "reoriented_df  = pd.DataFrame(reoriented_data)"
   ]
  },
  {
   "cell_type": "code",
   "execution_count": null,
   "id": "175fb3e5",
   "metadata": {},
   "outputs": [],
   "source": [
    "if DEBUG:\n",
    "    time_of_interest = (0,5)\n",
    "    plt.figure(figsize=(12,4))\n",
    "\n",
    "    plt.plot(acc_data_new['Time'][int(time_of_interest[0]*resampling_freq):int(time_of_interest[1]*resampling_freq)],\n",
    "            acc_data_new['z_acc'][int(time_of_interest[0]*resampling_freq):int(time_of_interest[1]*resampling_freq)],\n",
    "            label='pre reorientation', color='blue', linewidth=3)\n",
    "    plt.plot(reoriented_data['Time'][int(time_of_interest[0]*resampling_freq):int(time_of_interest[1]*resampling_freq)],\n",
    "            reoriented_data['z_acc_pca'][int(time_of_interest[0]*resampling_freq):int(time_of_interest[1]*resampling_freq)],\n",
    "             label='reoriented y acc', color='red')\n",
    "    # plt.plot(label_data_cleaned[(label_data_cleaned['Time'] < time_of_interest[1]) & (label_data_cleaned['Time'] > time_of_interest[0])]['Time'], \n",
    "    #            label_data_cleaned[(label_data_cleaned['Time'] < time_of_interest[1]) & (label_data_cleaned['Time'] > time_of_interest[0])]['Label'],\n",
    "    #            label='labels', color='green')\n",
    "\n",
    "    plt.legend()\n",
    "    plt.grid()\n",
    "    plt.title('Pre Reorientation vs post Reorientation')\n",
    "\n",
    "    plt.plot()"
   ]
  },
  {
   "cell_type": "markdown",
   "id": "0d4a60cd",
   "metadata": {},
   "source": [
    "# FILTERING "
   ]
  },
  {
   "cell_type": "code",
   "execution_count": null,
   "id": "f064f5c0",
   "metadata": {},
   "outputs": [],
   "source": [
    "def apply_custom_filter(filter_name, sig):\n",
    "    path = os.path.join(path_to_filters, filter_name)\n",
    "    data = np.load(path)\n",
    "    b,a = data['ba'][0], data['ba'][1]\n",
    "    w, h = signal.freqz(b,a)\n",
    "    return signal.filtfilt(b, a, sig)"
   ]
  },
  {
   "cell_type": "code",
   "execution_count": null,
   "id": "3f84562e",
   "metadata": {},
   "outputs": [],
   "source": [
    "def butter_highpass_filter(data, sampling_freq, cutoff_freq, order=11):\n",
    "    if cutoff_freq == 0:\n",
    "        return data\n",
    "    nyquist_freq = 0.5 * sampling_freq\n",
    "    normal_cutoff = cutoff_freq/nyquist_freq\n",
    "    b,a = butter(order, normal_cutoff, 'high')\n",
    "    y = filtfilt(b,a, np.array(data))\n",
    "    return y\n",
    "\n",
    "def butter_lowpass_filter(data, sampling_freq, cutoff_freq, order=11):\n",
    "    nyquist_freq = 0.5 * sampling_freq\n",
    "    normal_cutoff = cutoff_freq/nyquist_freq\n",
    "    b,a = butter(order, normal_cutoff, 'low')\n",
    "    y = filtfilt(b,a, np.array(data))\n",
    "    return y\n",
    "\n",
    "def butter_bandpass_filter(data, sampling_freq, low_cutoff, high_cutoff, order=11):\n",
    "    nyquist = 0.5 * sampling_freq\n",
    "    low = low_cutoff / nyquist\n",
    "    high = high_cutoff / nyquist\n",
    "    b, a = butter(order, [low, high], btype='bandpass')\n",
    "    y = lfilter(b, a, data)\n",
    "    return y\n",
    "\n",
    "def butter_bandstop_filter(data, sampling_freq, low_cutoff, high_cutoff, order=11):\n",
    "    nyquist = 0.5 * sampling_freq\n",
    "    low = low_cutoff / nyquist\n",
    "    high = high_cutoff/ nyquist\n",
    "    b, a = butter(order, [low, high], btype='bandstop')\n",
    "    y = lfilter(b, a, data)\n",
    "    return y"
   ]
  },
  {
   "cell_type": "code",
   "execution_count": null,
   "id": "80ac6028",
   "metadata": {},
   "outputs": [],
   "source": [
    "if filt_name_arr[0] == 'butter_orig':\n",
    "    order = 11\n",
    "    low_cutoff_freq = 4.0\n",
    "    sampling_freq = 50\n",
    "    high_cutoff_freq = 20.0\n",
    "\n",
    "    for column in ['x_acc_pca', 'y_acc_pca', 'z_acc_pca', 'x_acc_euler', 'y_acc_euler', 'z_acc_euler']:\n",
    "        #removing gravity and acc changes bcz of vehicles motion \n",
    "        reoriented_df[column + '_filtered_hp'] = butter_highpass_filter(\n",
    "                                                    reoriented_df[column], \n",
    "                                                    sampling_freq, \n",
    "                                                    low_cutoff_freq)\n",
    "        #gravity and acc bcz of motion of the vehicle \n",
    "        reoriented_df[column + '_filtered_lp'] = butter_lowpass_filter(\n",
    "                                                    reoriented_df[column], \n",
    "                                                    sampling_freq, \n",
    "                                                    low_cutoff_freq)\n",
    "        #data of intrest after removing low frequency events and sensor noise \n",
    "        reoriented_df[column + '_filtered_bp'] = butter_bandpass_filter(\n",
    "                                                    reoriented_df[column], \n",
    "                                                    sampling_freq, \n",
    "                                                    1, \n",
    "                                                    8)\n",
    "        # sensor noise data \n",
    "        reoriented_df[column + '_noise'] = butter_highpass_filter(\n",
    "                                                reoriented_df[column], \n",
    "                                                sampling_freq, \n",
    "                                                high_cutoff_freq)\n",
    "        # bandstop to remove auto noise \n",
    "        reoriented_df[column + '_filtered_bs'] = butter_bandstop_filter(\n",
    "                                                    reoriented_df[column],\n",
    "                                                    sampling_freq,\n",
    "                                                    1,\n",
    "                                                    2)\n",
    "        \n",
    "else:\n",
    "    columns_to_filter = ['x_acc_pca', 'y_acc_pca', 'z_acc_pca', 'x_acc_euler', 'y_acc_euler', 'z_acc_euler']\n",
    "    for column, filter_name in zip(columns_to_filter, filt_name_arr[1:]):\n",
    "        reoriented_df[column + '_filter_' + filter_name] = apply_custom_filter(filter_name, reoriented_df[column])\n",
    "    "
   ]
  },
  {
   "cell_type": "code",
   "execution_count": null,
   "id": "6baf68cd",
   "metadata": {},
   "outputs": [],
   "source": [
    "if DEBUG:\n",
    "    plt.figure(figsize=(12,5))\n",
    "    plt.plot(reoriented_df['Time'], reoriented_df['z_acc_euler_filtered_bp'])"
   ]
  },
  {
   "cell_type": "markdown",
   "id": "69951c68",
   "metadata": {},
   "source": [
    "### VISUALIZE ORIGINAL DATA VS POST FILTERING "
   ]
  },
  {
   "cell_type": "code",
   "execution_count": null,
   "id": "48610f0c-0e29-4d8b-9cc0-f9e37351128e",
   "metadata": {},
   "outputs": [],
   "source": [
    "DEBUG = False"
   ]
  },
  {
   "cell_type": "code",
   "execution_count": null,
   "id": "93eb273f",
   "metadata": {},
   "outputs": [],
   "source": [
    "if DEBUG:\n",
    "    toi = (0,10)\n",
    "    if filt_name_arr[0] == 'butter_orig':\n",
    "        fig,ax = plt.subplots(ncols = 1, nrows=3, figsize = (18,18))\n",
    "        color = ['red', 'blue', 'orange', 'green', 'pink', 'yellow']\n",
    "        for i in range(0,6):\n",
    "            filtered_x = butter_highpass_filter(reoriented_df['x_acc_'+reorientation_type], sampling_freq, i)\n",
    "            filtered_y = butter_highpass_filter(reoriented_df['y_acc_'+reorientation_type], sampling_freq, i)\n",
    "            filtered_z = butter_highpass_filter(reoriented_df['z_acc_'+reorientation_type], sampling_freq, i)\n",
    "            ax[0].plot(reoriented_df['Time'][int(resampling_freq*toi[0]):int(resampling_freq*toi[1])], \n",
    "                       filtered_x[int(resampling_freq*toi[0]):int(resampling_freq*toi[1])], \n",
    "                       color = color[i-4], label = f'cutoff_freq_{i}')\n",
    "\n",
    "            ax[1].plot(reoriented_df['Time'][int(resampling_freq*toi[0]):int(resampling_freq*toi[1])], \n",
    "                       filtered_y[int(resampling_freq*toi[0]):int(resampling_freq*toi[1])], \n",
    "                       color = color[i-4], label = f'cutoff_freq_{i}')\n",
    "\n",
    "            ax[2].plot(reoriented_df['Time'][int(resampling_freq*toi[0]):int(resampling_freq*toi[1])], \n",
    "                       filtered_z[int(resampling_freq*toi[0]):int(resampling_freq*toi[1])], \n",
    "                       color = color[i-4], label = f'cutoff_freq_{i}')\n",
    "        ax[0].legend()\n",
    "        ax[1].legend()\n",
    "        ax[2].legend()\n",
    "        ax[0].grid()\n",
    "        ax[1].grid()\n",
    "        ax[2].grid()\n",
    "        ax[0].set_title('x_acc original vs filtered')\n",
    "        ax[1].set_title('y_acc original vs filtered')\n",
    "        ax[2].set_title('z_acc original vs filtered')\n",
    "        plt.show()\n",
    "    else:\n",
    "        fig, ax = plt.subplots(nrows=3, ncols=1, figsize=(18,18))\n",
    "        color = ['blue', 'orange', 'green', 'pink']\n",
    "        for i, filter_name in enumerate(filt_name_arr):\n",
    "            ax[0].plot(reoriented_df['Time'][int(resampling_freq*toi[0]):int(resampling_freq*toi[1])], \n",
    "                       reoriented_df['y_acc_' + reorientation_type + '_filter_' + filter_name][int(resampling_freq*toi[0]):int(resampling_freq*toi[1])], \n",
    "                       color = color[i], label = filter_name)\n",
    "\n",
    "            ax[1].plot(reoriented_df['Time'][int(resampling_freq*toi[0]):int(resampling_freq*toi[1])], \n",
    "                       reoriented_df['x_acc_' + reorientation_type + '_filter_' + filter_name][int(resampling_freq*toi[0]):int(resampling_freq*toi[1])], \n",
    "                       color = color[i], label = filter_name)\n",
    "\n",
    "            ax[2].plot(reoriented_df['Time'][int(resampling_freq*toi[0]):int(resampling_freq*toi[1])], \n",
    "                       reoriented_df['z_acc_' + reorientation_type + '_filter_' + filter_name][int(resampling_freq*toi[0]):int(resampling_freq*toi[1])], \n",
    "                       color = color[i], label = filter_name)\n",
    "        ax[0].plot(reoriented_df['Time'][int(resampling_freq*toi[0]):int(resampling_freq*toi[1])], \n",
    "                   reoriented_df['y_acc_' + reorientation_type][int(resampling_freq*toi[0]):int(resampling_freq*toi[1])],\n",
    "                   color = 'red', label='original_data' )\n",
    "        ax[1].plot(reoriented_df['Time'][int(resampling_freq*toi[0]):int(resampling_freq*toi[1])], \n",
    "               reoriented_df['x_acc_' + reorientation_type][int(resampling_freq*toi[0]):int(resampling_freq*toi[1])],\n",
    "               color = 'red', label='original_data' )\n",
    "        ax[2].plot(reoriented_df['Time'][int(resampling_freq*toi[0]):int(resampling_freq*toi[1])], \n",
    "               reoriented_df['z_acc_' + reorientation_type][int(resampling_freq*toi[0]):int(resampling_freq*toi[1])],\n",
    "               color = 'red', label='original_data' )\n",
    "        ax[0].legend()\n",
    "        ax[1].legend()\n",
    "        ax[2].legend()\n",
    "        ax[0].grid()\n",
    "        ax[1].grid()\n",
    "        ax[2].grid()\n",
    "        ax[0].set_title('y_acc original vs filtered')\n",
    "        ax[1].set_title('x_acc original vs filtered')\n",
    "        ax[2].set_title('z_acc original vs filtered')\n",
    "        plt.show()\n"
   ]
  },
  {
   "cell_type": "code",
   "execution_count": null,
   "id": "abdad1e6-8c56-4291-b9fa-de02a38c3edf",
   "metadata": {},
   "outputs": [],
   "source": [
    "DEBUG = False"
   ]
  },
  {
   "cell_type": "markdown",
   "id": "82f7f292",
   "metadata": {},
   "source": [
    "### visualising diffrent bands of butterworth"
   ]
  },
  {
   "cell_type": "code",
   "execution_count": null,
   "id": "d2518466",
   "metadata": {},
   "outputs": [],
   "source": [
    "%matplotlib inline\n",
    "if DEBUG:\n",
    "    if filt_name_arr[0] == 'butter_orig':\n",
    "\n",
    "        time_of_intrest = (10,15) #time in seconds for total band use 120\n",
    "        fig,ax = plt.subplots(ncols = 1, nrows=3, figsize = (12,12))\n",
    "        ax[0].plot(reoriented_df['Time'][int(resampling_freq*time_of_intrest[0]):int(resampling_freq*time_of_intrest[1])], \n",
    "                    reoriented_df['y_acc_'+reorientation_type][int(resampling_freq*time_of_intrest[0]):int(resampling_freq*time_of_intrest[1])],\n",
    "                    color = 'orange', label='original_data')\n",
    "    #     ax[0].plot(reoriented_df['Time'][int(resampling_freq*time_of_intrest[0]):int(resampling_freq*time_of_intrest[1])], \n",
    "    #                reoriented_df['y_acc_'+reorientation_type+'_noise'][int(resampling_freq*time_of_intrest[0]):int(resampling_freq*time_of_intrest[1])],\n",
    "    #                color='red', label = 'noise', alpha = 0.3)\n",
    "        ax[0].plot(reoriented_df['Time'][int(resampling_freq*time_of_intrest[0]):int(resampling_freq*time_of_intrest[1])], \n",
    "                   reoriented_df['y_acc_'+reorientation_type+'_filtered_lp'][int(resampling_freq*time_of_intrest[0]):int(resampling_freq*time_of_intrest[1])],\n",
    "                   color='red', label = 'low_pass')\n",
    "        # ax[0].plot(reoriented_df['Time'][int(resampling_freq*time_of_intrest[0]):int(resampling_freq*time_of_intrest[1])], \n",
    "        #             reoriented_df['y_acc_'+reorientation_type+'_filtered_hp'][int(resampling_freq*time_of_intrest[0]):int(resampling_freq*time_of_intrest[1])],\n",
    "        #             color='blue', label = 'highpass', alpha = 0.5 )\n",
    "        # ax[0].plot(reoriented_df['Time'][int(resampling_freq*time_of_intrest[0]):int(resampling_freq*time_of_intrest[1])], \n",
    "        #            reoriented_df['y_acc_'+reorientation_type+'_filtered_bp'][int(resampling_freq*time_of_intrest[0]):int(resampling_freq*time_of_intrest[1])],\n",
    "        #            color='green', label = 'desired_freq_range')\n",
    "        ax[0].legend()\n",
    "        ax[0].grid()\n",
    "        ax[0].set_title('z_acc pre and post filtering')\n",
    "\n",
    "        ax[1].plot(reoriented_df['Time'][int(resampling_freq*time_of_intrest[0]):int(resampling_freq*time_of_intrest[1])], \n",
    "                    reoriented_df['x_acc_'+reorientation_type][int(resampling_freq*time_of_intrest[0]):int(resampling_freq*time_of_intrest[1])],\n",
    "                    color = 'orange', label='original_data')\n",
    "    #     ax[1].plot(reoriented_df['Time'][int(resampling_freq*time_of_intrest[0]):int(resampling_freq*time_of_intrest[1])], \n",
    "    #                reoriented_df['x_acc_'+reorientation_type+'_noise'][int(resampling_freq*time_of_intrest[0]):int(resampling_freq*time_of_intrest[1])],\n",
    "    #                color='red', label = 'noise', alpha = 0.3)\n",
    "        ax[1].plot(reoriented_df['Time'][int(resampling_freq*time_of_intrest[0]):int(resampling_freq*time_of_intrest[1])], \n",
    "                   reoriented_df['x_acc_'+reorientation_type+'_filtered_lp'][int(resampling_freq*time_of_intrest[0]):int(resampling_freq*time_of_intrest[1])],\n",
    "                   color='red', label = 'low_freq_events')\n",
    "        ax[1].plot(reoriented_df['Time'][int(resampling_freq*time_of_intrest[0]):int(resampling_freq*time_of_intrest[1])], \n",
    "                   reoriented_df['x_acc_'+reorientation_type+'_filtered_hp'][int(resampling_freq*time_of_intrest[0]):int(resampling_freq*time_of_intrest[1])],\n",
    "                   color='blue', label = 'highpass', alpha = 0.5 )\n",
    "        ax[1].plot(reoriented_df['Time'][int(resampling_freq*time_of_intrest[0]):int(resampling_freq*time_of_intrest[1])], \n",
    "                   reoriented_df['x_acc_'+reorientation_type+'_filtered_bp'][int(resampling_freq*time_of_intrest[0]):int(resampling_freq*time_of_intrest[1])],\n",
    "                   color='green', label = 'desired_freq_range')\n",
    "        ax[1].legend()\n",
    "        ax[1].set_title('x_acc accerleration')\n",
    "\n",
    "        ax[2].plot(reoriented_df['Time'][int(resampling_freq*time_of_intrest[0]):int(resampling_freq*time_of_intrest[1])], \n",
    "                      reoriented_df['z_acc_'+reorientation_type][int(resampling_freq*time_of_intrest[0]):int(resampling_freq*time_of_intrest[1])]\n",
    "                      , color = 'orange' , label='original_data' )\n",
    "    #     ax[2].plot(reoriented_df['Time'][int(resampling_freq*time_of_intrest[0]):int(resampling_freq*time_of_intrest[1])], \n",
    "    #                reoriented_df['z_acc_'+reorientation_type+'_noise'][int(resampling_freq*time_of_intrest[0]):int(resampling_freq*time_of_intrest[1])],\n",
    "    #                color='red', label = 'noise', alpha = 0.3)\n",
    "        ax[2].plot(reoriented_df['Time'][int(resampling_freq*time_of_intrest[0]):int(resampling_freq*time_of_intrest[1])], \n",
    "                   reoriented_df['z_acc_'+reorientation_type+'_filtered_lp'][int(resampling_freq*time_of_intrest[0]):int(resampling_freq*time_of_intrest[1])],\n",
    "                   color='red', label = 'low_freq_events', alpha = 1)\n",
    "        ax[2].plot(reoriented_df['Time'][int(resampling_freq*time_of_intrest[0]):int(resampling_freq*time_of_intrest[1])], \n",
    "                   reoriented_df['z_acc_'+reorientation_type+'_filtered_hp'][int(resampling_freq*time_of_intrest[0]):int(resampling_freq*time_of_intrest[1])],\n",
    "                   color='blue', label = 'low_freq_events_removed', alpha = 0.5 )\n",
    "        ax[2].plot(reoriented_df['Time'][int(resampling_freq*time_of_intrest[0]):int(resampling_freq*time_of_intrest[1])], \n",
    "                   reoriented_df['z_acc_'+reorientation_type+'_filtered_bp'][int(resampling_freq*time_of_intrest[0]):int(resampling_freq*time_of_intrest[1])],\n",
    "                   color='green', label = 'desired_freq_range')\n",
    "        ax[2].legend()\n",
    "        ax[2].set_title('z_acc accerleration')\n",
    "        plt.show()"
   ]
  },
  {
   "cell_type": "markdown",
   "id": "6576f50e",
   "metadata": {},
   "source": [
    "### VISUALISING LABEL VS FILTERED DATA"
   ]
  },
  {
   "cell_type": "code",
   "execution_count": null,
   "id": "da7275e1",
   "metadata": {},
   "outputs": [],
   "source": [
    "toi = (200,250)\n",
    "plt.figure(figsize=(12,6))\n",
    "if filt_name_arr[0] == 'butter_orig':\n",
    "    plt.plot(reoriented_df['Time'][int(resampling_freq*toi[0]):int(resampling_freq*toi[1])], \n",
    "           reoriented_df['z_acc_'+reorientation_type+'_filtered_lp'][int(resampling_freq*toi[0]):int(resampling_freq*toi[1])],\n",
    "           color='green', label = 'desired_freq_range')\n",
    "else:\n",
    "    color = ['blue', 'orange', 'pink', 'yellow']\n",
    "    for i, filter_name in enumerate(filt_name_arr): \n",
    "        plt.plot(reoriented_df['Time'][int(resampling_freq*toi[0]):int(resampling_freq*toi[1])], \n",
    "                   reoriented_df['z_acc_' + reorientation_type + '_filter_' + filter_name][int(resampling_freq*toi[0]):int(resampling_freq*toi[1])], \n",
    "                   color = color[i], label = filter_name)\n",
    "\n",
    "plt.plot(reoriented_df['Time'][int(resampling_freq*toi[0]):int(resampling_freq*toi[1])],\n",
    "        reoriented_df['Label'][int(resampling_freq*toi[0]):int(resampling_freq*toi[1])],\n",
    "        color = 'red')\n",
    "\n",
    "plt.title('z_acc vs labels')\n",
    "plt.grid()\n",
    "plt.show()"
   ]
  },
  {
   "cell_type": "code",
   "execution_count": null,
   "id": "5384310e",
   "metadata": {},
   "outputs": [],
   "source": [
    "selected_columns = ['Time', 'Label', 'Latitude', 'Longitude','Velocity','Previous_velocity','Next_velocity', 'Per_Velocity_Chng',\n",
    "       'x_acc_pca_filtered_hp', 'x_acc_pca_filtered_lp', 'x_acc_pca_filtered_bs',\n",
    "       'x_acc_pca_filtered_bp', 'y_acc_pca_filtered_hp', 'y_acc_pca_filtered_bs',\n",
    "       'y_acc_pca_filtered_lp', 'y_acc_pca_filtered_bp', 'z_acc_pca_filtered_bs',\n",
    "       'z_acc_pca_filtered_hp', 'z_acc_pca_filtered_lp', 'x_acc_euler_filtered_bs',\n",
    "       'z_acc_pca_filtered_bp', 'x_acc_euler_filtered_hp', 'y_acc_euler_filtered_bs',\n",
    "       'x_acc_euler_filtered_lp', 'x_acc_euler_filtered_bp', 'z_acc_euler_filtered_bs',\n",
    "       'y_acc_euler_filtered_hp', 'y_acc_euler_filtered_lp',\n",
    "       'y_acc_euler_filtered_bp', 'z_acc_euler_filtered_hp',\n",
    "       'z_acc_euler_filtered_lp', 'z_acc_euler_filtered_bp', 'x_acc_pca_noise',\n",
    "       'y_acc_pca_noise', 'z_acc_pca_noise', 'x_acc_euler_noise',\n",
    "       'y_acc_euler_noise', 'z_acc_euler_noise']\n",
    "filtered_df = reoriented_df[selected_columns]"
   ]
  },
  {
   "cell_type": "code",
   "execution_count": null,
   "id": "5af48e37",
   "metadata": {},
   "outputs": [],
   "source": [
    "if event_based_analysis:\n",
    "    filtered_df.loc[filtered_df['Label']!=7, 'Label'] = 0"
   ]
  },
  {
   "cell_type": "markdown",
   "id": "9eec9d6a",
   "metadata": {},
   "source": [
    "## LABELING \n",
    "We will be labeling data using sliding window the size of the sliding window can be changed in order to identify diffrent features of road quality "
   ]
  },
  {
   "cell_type": "code",
   "execution_count": null,
   "id": "f2c1ca87",
   "metadata": {},
   "outputs": [],
   "source": [
    "class SlidingWindow:\n",
    "    def __init__(self,window_size, overlap, x, y, z):\n",
    "        \n",
    "        self.window_size = window_size\n",
    "        self.overlap = overlap\n",
    "        self.create_windows(x, y, z)\n",
    "    \n",
    "    def create_windows(self, x, y, z):\n",
    "        x_windows = []\n",
    "        y_windows = []\n",
    "        z_windows = []\n",
    "        for i in range(0, len(x)-self.window_size, int(self.window_size*(1-self.overlap))):\n",
    "            x_windows.append(x[i:i+self.window_size])\n",
    "            y_windows.append(y[i:i+self.window_size])\n",
    "            z_windows.append(z[i:i+self.window_size])\n",
    "        self.x_windows = np.array(x_windows)\n",
    "        self.y_windows = np.array(y_windows)\n",
    "        self.z_windows = np.array(z_windows)\n",
    "    \n",
    "    def add_labels(self, label_data):\n",
    "        labels = []\n",
    "        for i in range(0, len(label_data)-self.window_size, int(self.window_size*(1-self.overlap))):\n",
    "            window_slice = label_data['Label'].iloc[i:i+self.window_size]\n",
    "            max_label = max(window_slice) \n",
    "            labels.append(max_label)\n",
    "            \n",
    "        self.labels = np.array(labels)\n",
    "    \n",
    "    def add_lat_long_windows(self,lat_long_data):\n",
    "        lat_windows=[]\n",
    "        long_windows=[]\n",
    "        for i in range(0, len(lat_long_data)-self.window_size, int(self.window_size*(1-self.overlap))):\n",
    "            lat_windows.append(lat_long_data['Latitude'][i])\n",
    "            long_windows.append(lat_long_data['Longitude'][i])\n",
    "\n",
    "        self.latitude = np.array(lat_windows)\n",
    "        self.longitude = np.array(long_windows)\n",
    "        \n",
    "    def add_avg_velocity(self, vel_data):\n",
    "        vel_window = []\n",
    "        vel_prev_window=[]\n",
    "        vel_next_window=[]\n",
    "        per_vel_chng_window=[]\n",
    "        for i in range(0, len(vel_data)-self.window_size, int(self.window_size*(1-self.overlap))):\n",
    "            vel_window.append(np.mean(vel_data['Velocity'][i: i+self.window_size]))\n",
    "            vel_prev_window.append(np.mean(vel_data['Previous_velocity'][i: i+self.window_size]))\n",
    "            vel_next_window.append(np.mean(vel_data['Next_velocity'][i: i+self.window_size]))\n",
    "            per_vel_chng_window.append(np.mean(vel_data['Per_Velocity_Chng'][i: i+self.window_size]))\n",
    "        \n",
    "        self.avg_vel = np.array(vel_window)\n",
    "        self.prev_avg_vel = np.array(vel_prev_window)\n",
    "        self.next_avg_vel = np.array(vel_next_window)\n",
    "        self.per_vel_chng = np.array(per_vel_chng_window)\n",
    "            "
   ]
  },
  {
   "cell_type": "markdown",
   "id": "cf12d408",
   "metadata": {},
   "source": [
    "## Initialising a window "
   ]
  },
  {
   "cell_type": "code",
   "execution_count": null,
   "id": "1ba6bbfb",
   "metadata": {},
   "outputs": [],
   "source": [
    "x = filtered_df[f'x_acc_{reorientation_type}_filtered_lp']\n",
    "y = filtered_df[f'y_acc_{reorientation_type}_filtered_lp']\n",
    "z = filtered_df[f'z_acc_{reorientation_type}_filtered_lp']\n",
    "roughness_window = SlidingWindow(100, 0.5,x, y, z)"
   ]
  },
  {
   "cell_type": "markdown",
   "id": "4a45995d",
   "metadata": {},
   "source": [
    "### adding labels, lat, long and velocity to window\n",
    "the labels assigned are based on mode"
   ]
  },
  {
   "cell_type": "code",
   "execution_count": null,
   "id": "78d30767",
   "metadata": {},
   "outputs": [],
   "source": [
    "roughness_window.add_labels(filtered_df)\n",
    "roughness_window.add_lat_long_windows(filtered_df)\n",
    "roughness_window.add_avg_velocity(filtered_df)\n",
    "if DEBUG:\n",
    "    roughness_window.labels"
   ]
  },
  {
   "cell_type": "markdown",
   "id": "695c9e10",
   "metadata": {},
   "source": [
    "## DEFINING A NEW DATAFRAME TO BE USED FOR TRAINING "
   ]
  },
  {
   "cell_type": "code",
   "execution_count": null,
   "id": "6291dead",
   "metadata": {},
   "outputs": [],
   "source": [
    "training_df = pd.DataFrame({\n",
    "    'x_acc': list(roughness_window.x_windows),\n",
    "    'y_acc': list(roughness_window.y_windows),\n",
    "    'z_acc': list(roughness_window.z_windows),\n",
    "    'Longitude': roughness_window.longitude,\n",
    "    'Latitude': roughness_window.latitude,\n",
    "    'Velocity': roughness_window.avg_vel,\n",
    "    'Previous_velocity': roughness_window.prev_avg_vel,\n",
    "    'Next_velocity': roughness_window.next_avg_vel,\n",
    "    'Per_Velocity_Chng': roughness_window.per_vel_chng,\n",
    "    'Label': roughness_window.labels \n",
    "})\n",
    "training_df.head()"
   ]
  },
  {
   "cell_type": "markdown",
   "id": "8aa1f7bc",
   "metadata": {},
   "source": [
    "# FEATURE EXTRACTION "
   ]
  },
  {
   "cell_type": "markdown",
   "id": "f7aad53f",
   "metadata": {},
   "source": [
    "## TIME DOMAIN "
   ]
  },
  {
   "cell_type": "code",
   "execution_count": null,
   "id": "052f8358",
   "metadata": {},
   "outputs": [],
   "source": [
    "def ten_pt_avg(data, method = 'ISO'):\n",
    "    sorted_data = np.sort(data.flatten())\n",
    "    if method == 'ISO':\n",
    "        tpa_iso = (np.sum(sorted_data[::-1][0:5]) - np.sum(sorted_data[0:5]))/5 #ask if it should be 5 or 50 \n",
    "        return tpa_iso\n",
    "    if method == 'DIN':\n",
    "        tpa_din = (np.sum(sorted_data[::-1][0:5]) + np.sum(sorted_data[0:5]))/10\n",
    "        return tpa_din\n",
    "    else:\n",
    "        print(\"wrong method\")\n",
    "        return None \n",
    "\n",
    "def peak_to_peak(data):\n",
    "    sorted_data = np.sort(data.flatten())\n",
    "    return sorted_data[-1] - sorted_data[0]"
   ]
  },
  {
   "cell_type": "code",
   "execution_count": null,
   "id": "c05b2945-cac8-4b90-973a-a9a715098539",
   "metadata": {},
   "outputs": [],
   "source": [
    "# acc_values = []\n",
    "# for i in range(138, 147):\n",
    "#     acc_values=(training_df['y_acc'][i])\n",
    "#     print(training_df['Label'][i])\n",
    "#     plot_fft(acc_values, 50)"
   ]
  },
  {
   "cell_type": "code",
   "execution_count": null,
   "id": "f1039dae",
   "metadata": {},
   "outputs": [],
   "source": [
    "#rms values\n",
    "training_df['x_rms'] = training_df['x_acc'].apply(lambda x: np.sqrt(np.mean(x**2)))\n",
    "training_df['y_rms'] = training_df['y_acc'].apply(lambda x: np.sqrt(np.mean(x**2)))\n",
    "training_df['z_rms'] = training_df['z_acc'].apply(lambda x: np.sqrt(np.mean(x**2)))\n",
    "\n",
    "#maximum value\n",
    "training_df['x_max'] = training_df['x_acc'].apply(lambda x: np.max(x))\n",
    "training_df['y_max'] = training_df['y_acc'].apply(lambda x: np.max(x))\n",
    "training_df['z_max'] = training_df['z_acc'].apply(lambda x: np.max(x))\n",
    "\n",
    "#minimum value\n",
    "training_df['x_min'] = training_df['x_acc'].apply(lambda x: np.min(x))\n",
    "training_df['y_min'] = training_df['y_acc'].apply(lambda x: np.min(x))\n",
    "training_df['z_min'] = training_df['z_acc'].apply(lambda x: np.min(x))\n",
    "\n",
    "# mean value \n",
    "training_df['x_mean'] = training_df['x_acc'].apply(lambda x: np.mean(x))\n",
    "training_df['y_mean'] = training_df['y_acc'].apply(lambda x: np.mean(x))\n",
    "training_df['z_mean'] = training_df['z_acc'].apply(lambda x: np.mean(x))\n",
    "\n",
    "# ten point average height (ISO)\n",
    "training_df['x_tpah'] = training_df['x_acc'].apply(lambda x: ten_pt_avg(x))\n",
    "training_df['y_tpah'] = training_df['y_acc'].apply(lambda x: ten_pt_avg(x))\n",
    "training_df['z_tpah'] = training_df['z_acc'].apply(lambda x: ten_pt_avg(x))\n",
    "\n",
    "# peak to peak\n",
    "training_df['x_p2p'] = training_df['x_acc'].apply(lambda x: peak_to_peak(x))\n",
    "training_df['y_p2p'] = training_df['y_acc'].apply(lambda x: peak_to_peak(x))\n",
    "training_df['z_p2p'] = training_df['z_acc'].apply(lambda x: peak_to_peak(x))\n",
    "\n",
    "\n",
    "training_df.tail()"
   ]
  },
  {
   "cell_type": "markdown",
   "id": "874d593a",
   "metadata": {},
   "source": [
    "## FREQUENCY DOMAIN"
   ]
  },
  {
   "cell_type": "code",
   "execution_count": null,
   "id": "e8ec5109",
   "metadata": {},
   "outputs": [],
   "source": [
    "def get_fft_values(signal,f_s):\n",
    "    \"\"\"\n",
    "    Parameters:\n",
    "    - signal : input_signal\n",
    "    - f_s : sampling frequency \n",
    "    \n",
    "    Retruns:\n",
    "    - f_values: freqeuncy values \n",
    "    - fft_values: corresponsing amplitude from the fft \n",
    "    \"\"\"\n",
    "    N = len(signal)\n",
    "    f_values = rfftfreq(N, 1 / f_s)\n",
    "    fft_values_ = rfft(signal)\n",
    "    fft_values = 2/N * np.abs(fft_values_)\n",
    "    return f_values, fft_values"
   ]
  },
  {
   "cell_type": "code",
   "execution_count": null,
   "id": "08fc32fb",
   "metadata": {},
   "outputs": [],
   "source": [
    "def plot_fft(signal, f_s):\n",
    "    \"\"\"\n",
    "    Parameters:\n",
    "    - signal: input_signal\n",
    "    -f_s: sampling_frequency\n",
    "    \n",
    "    Returns:\n",
    "    - plots the fourier transform graph\n",
    "    \"\"\"\n",
    "    f_values, fft_values = get_fft_values(signal, f_s)\n",
    "#     print(fft_values)\n",
    "    plt.figure(figsize=(10,5))\n",
    "    print(\"Freq with Max Amp: \", f_values[np.argmax(fft_values[1:])], \" with max_value: \", np.max(fft_values[1:]))\n",
    "    plt.plot(f_values[1:], fft_values[1:])"
   ]
  },
  {
   "cell_type": "code",
   "execution_count": null,
   "id": "02eaf4b7",
   "metadata": {},
   "outputs": [],
   "source": [
    "if DEBUG:\n",
    "    data = acc_data_new['z_acc'][0:500].to_numpy()\n",
    "    plot_fft(data, 50)"
   ]
  },
  {
   "cell_type": "markdown",
   "id": "37da2b34",
   "metadata": {},
   "source": [
    "## WAVELET DOMAIN"
   ]
  },
  {
   "cell_type": "code",
   "execution_count": null,
   "id": "e325f80d",
   "metadata": {},
   "outputs": [],
   "source": [
    "def plot_sub_band(data, wavelet, depth=3):\n",
    "    a = data\n",
    "    ca=[]\n",
    "    cd=[]\n",
    "    for i in range(depth):\n",
    "        a,d = pywt.dwt(a, wavelet)\n",
    "        ca.append(a.copy())\n",
    "        cd.append(d.copy())\n",
    "\n",
    "    rec_a = []\n",
    "    rec_d = []\n",
    "\n",
    "    for i, coeff in enumerate(ca):\n",
    "        coeff_list = [coeff, None] + [None]*i\n",
    "        rec_a.append(pywt.waverec(coeff_list, wavelet))\n",
    "\n",
    "    for i, coeff in enumerate(cd):\n",
    "        coeff_list = [coeff, None] + [None]*i\n",
    "        rec_d.append(pywt.waverec(coeff_list, wavelet))\n",
    "\n",
    "    fig = plt.figure(figsize=(10,12))\n",
    "    ax_main = fig.add_subplot(len(rec_a) + 1, 1, 1)\n",
    "    ax_main.plot(data)\n",
    "    ax_main.set_xlim(0, len(data) - 1)\n",
    "\n",
    "    for i, y in enumerate(rec_a):\n",
    "        ax = fig.add_subplot(len(rec_a) + 1, 2, 3 + i * 2)\n",
    "        ax.plot(y, 'r')\n",
    "        ax.set_xlim(0, len(y))\n",
    "        ax.set_ylabel(\"A%d\" % (i + 1))\n",
    "\n",
    "    for i, y in enumerate(rec_d):\n",
    "        ax = fig.add_subplot(len(rec_d) + 1, 2, 4 + i * 2)\n",
    "        ax.plot(y, 'g')\n",
    "        ax.set_xlim(0, len(y))\n",
    "        ax.set_ylabel(\"D%d\" % (i + 1))\n",
    "    \n",
    "    "
   ]
  },
  {
   "cell_type": "code",
   "execution_count": null,
   "id": "1c68a3cc",
   "metadata": {},
   "outputs": [],
   "source": [
    "if DEBUG:\n",
    "    wavelet = 'coif1'\n",
    "    data = filtered_df['z_acc_euler_filtered_lp'][3000:3500]\n",
    "    plot_sub_band(data, wavelet, 5)"
   ]
  },
  {
   "cell_type": "markdown",
   "id": "67234011",
   "metadata": {},
   "source": [
    "### VISUALISING LABEL AGAINST FEATURES "
   ]
  },
  {
   "cell_type": "markdown",
   "id": "e0d0526e",
   "metadata": {},
   "source": [
    "#### defining features of intrest"
   ]
  },
  {
   "cell_type": "code",
   "execution_count": null,
   "id": "825e8305",
   "metadata": {},
   "outputs": [],
   "source": [
    "feature_arr = ['rms', 'max', 'min', 'mean', 'tpah', 'p2p']"
   ]
  },
  {
   "cell_type": "code",
   "execution_count": null,
   "id": "cc3072be",
   "metadata": {},
   "outputs": [],
   "source": [
    "def plot_feature_vs_label(feature, data):\n",
    "    feature_arr = [f'x_{feature}', f'y_{feature}', f'z_{feature}']\n",
    "    label_colors = {1: 'green', 2: 'blue', 3: 'yellow', 4: 'orange', 5: 'red'}\n",
    "    \n",
    "    %matplotlib notebook\n",
    "    fig = plt.figure()\n",
    "    ax = fig.add_subplot(111, projection='3d')\n",
    "    \n",
    "    for label, color in label_colors.items():\n",
    "        label_data = data[data['Label'] == label]\n",
    "        ax.scatter(label_data[feature_arr[0]], label_data[feature_arr[1]], label_data[feature_arr[2]],\n",
    "                   marker='o', color=color, label=f'label_{label}_pts')\n",
    "\n",
    "    ax.set_xlabel('X-axis')\n",
    "    ax.set_ylabel('Y-axis')\n",
    "    ax.set_zlabel('Z-axis')\n",
    "    ax.set_title(f'Label vs {feature}')\n",
    "    ax.legend()\n",
    "    plt.show()"
   ]
  },
  {
   "cell_type": "markdown",
   "id": "23962385",
   "metadata": {},
   "source": [
    "#### visualising it in 3-d based on x,y,z values"
   ]
  },
  {
   "cell_type": "code",
   "execution_count": null,
   "id": "8bff4822",
   "metadata": {},
   "outputs": [],
   "source": [
    "if plot_3d:\n",
    "    for feature in feature_arr:\n",
    "        plot_feature_vs_label(feature, training_df)"
   ]
  },
  {
   "cell_type": "markdown",
   "id": "b67d9f83",
   "metadata": {},
   "source": [
    "#### visualising it as a heatmap just based on y axis data"
   ]
  },
  {
   "cell_type": "code",
   "execution_count": null,
   "id": "8ac0a049",
   "metadata": {},
   "outputs": [],
   "source": [
    "def plot_heatmap(feature, data):\n",
    "    plt.figure(figsize = (7,5))\n",
    "    plt.scatter(data.index, data['z_'+feature], c=data['Label'], cmap='plasma', marker='o', s=4)\n",
    "    cbar = plt.colorbar()\n",
    "    cbar.set_label('Label')\n",
    "    plt.title(f'{feature} vs label heatmap')\n",
    "    plt.show()"
   ]
  },
  {
   "cell_type": "code",
   "execution_count": null,
   "id": "0ac3f3eb",
   "metadata": {},
   "outputs": [],
   "source": [
    "%matplotlib inline\n",
    "if plot_hm:\n",
    "    for feature in feature_arr:\n",
    "        plot_heatmap(feature, training_df)"
   ]
  },
  {
   "cell_type": "markdown",
   "id": "c6c93c2d",
   "metadata": {},
   "source": [
    "#### visualising feature vs label in a normal graph to look for pattern"
   ]
  },
  {
   "cell_type": "code",
   "execution_count": null,
   "id": "964cd10a",
   "metadata": {},
   "outputs": [],
   "source": [
    "def plot_label_vs_feature(feature, data, toi, velocity=False, mv=False, size=3):\n",
    "    plt.figure(figsize=(12,4))\n",
    "#     temp = np.array(training_df['y_acc'][toi[0]:toi[1]])\n",
    "#     print(temp)\n",
    "#     time = np.linspace(0, toi[1] - toi[0], (toi[1]-toi[0])*50)\n",
    "    temp = data['z_'+feature][toi[0]:toi[1]].to_numpy()\n",
    "    mv = [np.mean(temp[i-size:i]) for i in range(size, len(temp))]\n",
    "    mv = [0]*size + mv\n",
    "\n",
    "    # plt.plot(data.index[toi[0]:toi[1]], mv, color='b', label='ma of rms')\n",
    "    # plt.plot(data.index[toi[0]:toi[1]], data['y_'+feature][toi[0]:toi[1]]-8.8, color = 'g', label=feature)\n",
    "    plt.plot(data.index[toi[0]:toi[1]], data['Label'][toi[0]:toi[1]], color = 'r', label='Label')\n",
    "    if velocity:\n",
    "        plt.plot(data.index[toi[0]:toi[1]], data['Velocity'][toi[0]:toi[1]], color='b', label='velocity')\n",
    "#         plt.plot(data.index[toi[0]:toi[1]], data['Per_Velocity_Chng'][toi[0]:toi[1]], color='orange', label='per_velocity_chng')\n",
    "# #         plt.plot(data.index[toi[0]:toi[1]], data['Previous_velocity'][toi[0]:toi[1]], color='g', label='prev_velocity')\n",
    "#         plt.plot(data.index[toi[0]:toi[1]], data['Next_velocity'][toi[0]:toi[1]], color='orange', label='next_velocity')\n",
    "#     plt.scatter(data.index[toi[0]:toi[1]], data['y_'+feature][toi[0]:toi[1]], color='black')\n",
    "    plt.legend()\n",
    "    # plt.title(f'{feature}_vs_Label')\n",
    "    plt.title('velocity vs label')\n",
    "    plt.grid()\n",
    "    plt.show()"
   ]
  },
  {
   "cell_type": "code",
   "execution_count": null,
   "id": "b22a74c3",
   "metadata": {},
   "outputs": [],
   "source": [
    "toi=(120, 200)\n",
    "specific_feature = 'p2p'\n",
    "if specific_feature:\n",
    "    plot_label_vs_feature(specific_feature, training_df, toi, velocity=True)\n",
    "else:\n",
    "    for feature in feature_arr:\n",
    "        plot_label_vs_feature(feature, training_df, toi)\n",
    "    "
   ]
  },
  {
   "cell_type": "markdown",
   "id": "4af3d4d2",
   "metadata": {},
   "source": [
    "## INVERTING DATA ABOUT MEAN"
   ]
  },
  {
   "cell_type": "code",
   "execution_count": null,
   "id": "582380aa",
   "metadata": {},
   "outputs": [],
   "source": [
    "if DEBUG:\n",
    "    toi=(80,340)\n",
    "    time = acc_data_new['Time'][toi[0]*50:toi[1]*50].to_numpy()\n",
    "    data = acc_data_new['x_acc'][toi[0]*50:toi[1]*50].to_numpy()\n",
    "    acc = data - np.mean(data)\n",
    "    acc = [value if value > 0 else 0 for value in acc]\n",
    "    temp = [np.mean(acc[i:i+100])for i in range(len(acc)-10)]\n",
    "    temp = [0]*10 + temp\n",
    "    plt.figure(figsize=(12,5))\n",
    "    plt.plot(time, acc, alpha=0.7)\n",
    "    plt.plot(time, acc_data_new['Label'][toi[0]*50:toi[1]*50].to_numpy())\n",
    "    plt.plot(time, temp)"
   ]
  },
  {
   "cell_type": "markdown",
   "id": "7d4bd9f9",
   "metadata": {},
   "source": [
    "## EXTRPOLATED RMS"
   ]
  },
  {
   "cell_type": "code",
   "execution_count": null,
   "id": "233af300",
   "metadata": {},
   "outputs": [],
   "source": [
    "if not event_based_analysis:\n",
    "    toi=(65,120)\n",
    "    scaling_factor = 20\n",
    "    rms_val = training_df['z_rms'][toi[0]:toi[1]]\n",
    "    rms_val = rms_val - np.mean(rms_val)\n",
    "    rms_val = rms_val * scaling_factor\n",
    "    plt.figure(figsize=(12,4))\n",
    "    # plt.plot(filtered_df['Time'][toi[0]*50: toi[1]*50], filtered_df[f'y_acc_{reorientation_type}_filtered_lp'][toi[0]*50:toi[1]*50])\n",
    "    # plt.plot(filtered_df['Time'][toi[0]*50: toi[1]*50], filtered_df[f'z_acc_{reorientation_type}_filtered_lp'][toi[0]*50:toi[1]*50])\n",
    "    plt.plot(training_df.index[toi[0]:toi[1]], rms_val, color = 'g', label='mean')\n",
    "    plt.plot(training_df.index[toi[0]:toi[1]], training_df['Label'][toi[0]:toi[1]], color = 'r', label='Label')\n",
    "    plt.plot(training_df.index[toi[0]:toi[1]], training_df['Velocity'][toi[0]:toi[1]], color='b', label='avg_velocity')\n",
    "    plt.plot(training_df.index[toi[0]:toi[1]], training_df['Per_Velocity_Chng'][toi[0]:toi[1]], color='orange', label='per_velocity_chng')\n",
    "    # plt.scatter(data.index[toi[0]:toi[1]], data['y_'+feature][toi[0]:toi[1]], color='black')\n",
    "    plt.legend()\n",
    "    plt.title(f'max_vs_Label')\n",
    "    plt.grid()\n",
    "    plt.show()"
   ]
  },
  {
   "cell_type": "markdown",
   "id": "5ed2d822",
   "metadata": {},
   "source": [
    "# CREATING AND TRAINING MODELS"
   ]
  },
  {
   "cell_type": "code",
   "execution_count": null,
   "id": "84888400",
   "metadata": {},
   "outputs": [],
   "source": [
    "def plot_actual_vs_predicted(Y_actual, Y_pred):\n",
    "    x = np.linspace(0, len(Y_actual), len(Y_actual))\n",
    "    plt.figure(figsize=(12,5))\n",
    "    plt.plot(x, Y_actual, color='g', label='actual')\n",
    "    plt.plot(x, Y_pred, color='r', label='predicted')\n",
    "    plt.title('ACTUAL VS PREDICTED LABELS')\n",
    "    plt.grid()\n",
    "    plt.legend()\n",
    "    plt.show()\n",
    "    "
   ]
  },
  {
   "cell_type": "code",
   "execution_count": null,
   "id": "30668d41",
   "metadata": {},
   "outputs": [],
   "source": [
    "# import joblib\n",
    "# features = ['Velocity', 'y_max', 'y_min','y_p2p', 'Previous_velocity', 'Next_velocity']\n",
    "# X = training_df[features]\n",
    "# Y = training_df['Label']\n",
    "\n",
    "# model = joblib.load('random_forest_event.pkl')\n",
    "\n",
    "# Y_pred_comp = model.predict(X)\n",
    "# accuracy = accuracy_score(Y, Y_pred_comp)\n",
    "# print(f'models accuracy on complete data when trained on all features is: {accuracy}')\n",
    "\n",
    "# plot_actual_vs_predicted(Y, Y_pred_comp)"
   ]
  },
  {
   "cell_type": "markdown",
   "id": "52d9c668",
   "metadata": {},
   "source": [
    "## RANDOM FOREST\n",
    "### ONLY USING RMS AND VELOCITY"
   ]
  },
  {
   "cell_type": "code",
   "execution_count": null,
   "id": "0e138046-3aed-4a35-915e-4fa42b7034d8",
   "metadata": {},
   "outputs": [],
   "source": [
    "# features = ['y_p2p']\n",
    "features = ['z_p2p', 'Velocity', 'Previous_velocity', 'Next_velocity']"
   ]
  },
  {
   "cell_type": "code",
   "execution_count": null,
   "id": "e8d24fb4",
   "metadata": {},
   "outputs": [],
   "source": [
    "####### splitting the data #########\n",
    "data_start = 0\n",
    "X = training_df[features][data_start:400]\n",
    "Y = training_df['Label'][data_start:400]\n",
    "\n",
    "X_train, X_test, Y_train, Y_test = train_test_split(X, Y, test_size=0.3, random_state=42)\n",
    "\n",
    "######## creating a random forest classifier ########\n",
    "rndm_clf = RandomForestClassifier(n_estimators=100, max_depth=2, random_state=0)\n",
    "rndm_clf.fit(X_train, Y_train)"
   ]
  },
  {
   "cell_type": "code",
   "execution_count": null,
   "id": "9d969bf5",
   "metadata": {},
   "outputs": [],
   "source": [
    "######## predicting accuracy ##########\n",
    "Y_pred = rndm_clf.predict(X_test)\n",
    "accuracy = accuracy_score(Y_test, Y_pred)\n",
    "print(f'models accuracy on test data when trained using RMS and velocity data is: {accuracy}')\n",
    "\n",
    "Y_pred_comp = rndm_clf.predict(X)\n",
    "accuracy = accuracy_score(Y, Y_pred_comp)\n",
    "print(f'models accuracy on complete data when trained using RMS and velocity data is: {accuracy}')"
   ]
  },
  {
   "cell_type": "markdown",
   "id": "dc56a9e2",
   "metadata": {},
   "source": [
    "#### plotting actual vs predicted results "
   ]
  },
  {
   "cell_type": "code",
   "execution_count": null,
   "id": "9ec826ce",
   "metadata": {},
   "outputs": [],
   "source": [
    "plot_actual_vs_predicted(Y, Y_pred_comp)"
   ]
  },
  {
   "cell_type": "markdown",
   "id": "8fbaf835",
   "metadata": {},
   "source": [
    "### ALL FEATURES"
   ]
  },
  {
   "cell_type": "code",
   "execution_count": null,
   "id": "c34db72d",
   "metadata": {},
   "outputs": [],
   "source": [
    "####### splitting the data #########\n",
    "# features = ['y_rms', 'Velocity', 'Previous_velocity', 'Next_velocity']\n",
    "features = ['z_rms', 'Velocity']\n",
    "X = training_df[features]\n",
    "Y = training_df['Label']\n",
    "\n",
    "X_train, X_test, Y_train, Y_test = train_test_split(X, Y, test_size=0.3, random_state=42)\n",
    "\n",
    "######## creating a random forest classifier ########\n",
    "rndm_clf = RandomForestClassifier(n_estimators=100, max_depth=2, random_state=0)\n",
    "rndm_clf.fit(X_train, Y_train)\n",
    "\n",
    "# import joblib\n",
    "# joblib.dump(rndm_clf, 'random_forest_event.pkl')"
   ]
  },
  {
   "cell_type": "code",
   "execution_count": null,
   "id": "d7c9d87a",
   "metadata": {},
   "outputs": [],
   "source": [
    "######## predicting accuracy ##########\n",
    "Y_pred = rndm_clf.predict(X_test)\n",
    "accuracy = accuracy_score(Y_test, Y_pred)\n",
    "print(f'models accuracy on test data when trained on all featured is: {accuracy}')\n",
    "\n",
    "Y_pred_comp = rndm_clf.predict(X)\n",
    "accuracy = accuracy_score(Y, Y_pred_comp)\n",
    "print(f'models accuracy on complete data when trained on all features is: {accuracy}')"
   ]
  },
  {
   "cell_type": "markdown",
   "id": "482daf26",
   "metadata": {},
   "source": [
    "#### plot actual vs predicted"
   ]
  },
  {
   "cell_type": "code",
   "execution_count": null,
   "id": "b0c82ad8",
   "metadata": {},
   "outputs": [],
   "source": [
    "plot_actual_vs_predicted(Y, Y_pred_comp)"
   ]
  },
  {
   "cell_type": "code",
   "execution_count": null,
   "id": "79c11689-bd0c-4a1c-9528-6e1ad4626bc4",
   "metadata": {},
   "outputs": [],
   "source": [
    "#Data generation required for label evaluation\n",
    "# req_cols = ['z_rms', 'Velocity', 'Label']\n",
    "# X_new = training_df[req_cols]\n",
    "# for i in range(1, 8):\n",
    "#     selected_rows = X_new.loc[X_new['Label'] == i]\n",
    "#     data = selected_rows.reset_index(drop=True)\n",
    "#     data.to_csv('../data/labels/'+date+'/'+'label_'+str(i)+'_with_'+'auto_'+str(data_num)+'_data.csv')"
   ]
  },
  {
   "cell_type": "markdown",
   "id": "620ef028",
   "metadata": {},
   "source": [
    "## SUPPORT VECTOR MACHINE\n",
    "### training only on rms and velocity\n"
   ]
  },
  {
   "cell_type": "code",
   "execution_count": null,
   "id": "130dca8d-facb-4aa1-98e0-ea8cc41c281c",
   "metadata": {},
   "outputs": [],
   "source": [
    "features = ['z_p2p']"
   ]
  },
  {
   "cell_type": "code",
   "execution_count": null,
   "id": "3801ca62",
   "metadata": {},
   "outputs": [],
   "source": [
    "########### splitting the data ############\n",
    "features = ['z_p2p', 'Velocity', 'Previous_velocity', 'Next_velocity']\n",
    "X = training_df[features][0:400]\n",
    "Y = training_df['Label'][0:400]\n",
    "\n",
    "X_train, X_test, Y_train, Y_test = train_test_split(X, Y, test_size=0.3, random_state=42)\n",
    "\n",
    "############ training the model ############\n",
    "C = 1.0\n",
    "model = LinearSVC(C=C, max_iter=10000, dual=True,random_state = 0)\n",
    "model.fit(X_train,Y_train)"
   ]
  },
  {
   "cell_type": "code",
   "execution_count": null,
   "id": "66a16b72",
   "metadata": {},
   "outputs": [],
   "source": [
    "########### predicting scores ###########\n",
    "Y_pred = model.predict(X_test)\n",
    "accuracy = accuracy_score(Y_test, Y_pred)\n",
    "print(f'models accuracy on test data when trained on rms and velocity data is: {accuracy}')\n",
    "\n",
    "Y_pred_comp = model.predict(X)\n",
    "accuracy = accuracy_score(Y, Y_pred_comp)\n",
    "print(f'models accuracy on complete data when trained on rms and velocity data  is: {accuracy}')"
   ]
  },
  {
   "cell_type": "markdown",
   "id": "4f717921",
   "metadata": {},
   "source": [
    "#### plot actual vs predicted"
   ]
  },
  {
   "cell_type": "code",
   "execution_count": null,
   "id": "53e24f36",
   "metadata": {},
   "outputs": [],
   "source": [
    "plot_actual_vs_predicted(Y, Y_pred_comp)"
   ]
  },
  {
   "cell_type": "markdown",
   "id": "056b04f3",
   "metadata": {},
   "source": [
    "### TRAINING ON ALL POSSIBLE FEATURES "
   ]
  },
  {
   "cell_type": "code",
   "execution_count": null,
   "id": "95e9e343",
   "metadata": {},
   "outputs": [],
   "source": [
    "########### splitting the data ############\n",
    "features = ['z_rms']\n",
    "X = training_df[features]\n",
    "Y = training_df['Label']\n",
    "\n",
    "X_train, X_test, Y_train, Y_test = train_test_split(X, Y, test_size=0.3, random_state=42)\n",
    "\n",
    "############ training the model ############\n",
    "C = 1.0\n",
    "model = LinearSVC(C=C, max_iter=10000, dual=True,random_state = 0)\n",
    "model.fit(X,Y)"
   ]
  },
  {
   "cell_type": "code",
   "execution_count": null,
   "id": "7348cd13",
   "metadata": {},
   "outputs": [],
   "source": [
    "######## predicting accuracy ##########\n",
    "Y_pred = model.predict(X_test)\n",
    "accuracy = accuracy_score(Y_test, Y_pred)\n",
    "print(f'models accuracy on test data when trained on all featured is: {accuracy}')\n",
    "\n",
    "Y_pred_comp = model.predict(X)\n",
    "accuracy = accuracy_score(Y, Y_pred_comp)\n",
    "print(f'models accuracy on complete data when trained on all features is: {accuracy}')"
   ]
  },
  {
   "cell_type": "markdown",
   "id": "399579eb",
   "metadata": {},
   "source": [
    "#### plotting actual vs predicted values "
   ]
  },
  {
   "cell_type": "code",
   "execution_count": null,
   "id": "e3fea3bb",
   "metadata": {},
   "outputs": [],
   "source": [
    "plot_actual_vs_predicted(Y, Y_pred_comp)"
   ]
  },
  {
   "cell_type": "markdown",
   "id": "31e39d5c",
   "metadata": {},
   "source": [
    "## AUTO NOISE"
   ]
  },
  {
   "cell_type": "code",
   "execution_count": null,
   "id": "d76db779",
   "metadata": {},
   "outputs": [],
   "source": [
    "data_0 = pd.read_pickle('../data/acc_data/29March2024/pickledData/pickled_noise.pkl')\n",
    "data_1 = pd.read_pickle('../data/acc_data/29March2024/pickledData/pickled1.pkl')\n",
    "# data_2 = pd.read_pickle('../data/acc_data/28feb2024/pickledData/pickled2.pkl')"
   ]
  },
  {
   "cell_type": "code",
   "execution_count": null,
   "id": "0b33d43a",
   "metadata": {},
   "outputs": [],
   "source": [
    "data_0 = fit_BPoly(data_0, 50)\n",
    "data_1 = fit_BPoly(data_1 ,50)\n",
    "x0 = data_0['x_acc'][0:1000].to_numpy()\n",
    "x1 = data_1['x_acc'][3000:4000].to_numpy()\n",
    "data_new = x1-x0\n"
   ]
  },
  {
   "cell_type": "code",
   "execution_count": null,
   "id": "ca82916e",
   "metadata": {},
   "outputs": [],
   "source": [
    "f_0, fft_0 = get_fft_values(data_0['x_acc'][0:1000].to_numpy(), 50)\n",
    "f_1, fft_1 = get_fft_values(data_1['x_acc'][3000:4000].to_numpy(), 50)\n",
    "f_2, fft_2 = get_fft_values(data_new, 50)"
   ]
  },
  {
   "cell_type": "code",
   "execution_count": null,
   "id": "615a5925",
   "metadata": {},
   "outputs": [],
   "source": [
    "plt.figure(figsize=(12,5))\n",
    "plt.plot(f_0[1:], fft_0[1:], color = 'red', label = 'y')\n",
    "plt.plot(f_1[1:], fft_1[1:], color = 'green', label = 'x')\n",
    "plt.plot(f_2[1:], fft_2[1:], color = 'blue', label = 'z')\n",
    "plt.grid()\n",
    "plt.legend()\n",
    "plt.show()"
   ]
  },
  {
   "cell_type": "markdown",
   "id": "fcdcfca7",
   "metadata": {},
   "source": [
    "## AMPLITUDE MODULATION "
   ]
  },
  {
   "cell_type": "code",
   "execution_count": null,
   "id": "6ee7282d",
   "metadata": {},
   "outputs": [],
   "source": [
    "modulation_frequency = 10\n",
    "t = np.linspace(0,1, 500)\n",
    "modulating_signal = np.sin(2 * np.pi * modulation_frequency * t) \n",
    "modulation_index = 0.4\n",
    "modulated_signal = (1 + modulation_index * modulating_signal) * data_1['y_acc'][1000:1500]"
   ]
  },
  {
   "cell_type": "code",
   "execution_count": null,
   "id": "a8f80a9e",
   "metadata": {},
   "outputs": [],
   "source": [
    "plt.figure(figsize=(12,5))\n",
    "plt.plot(t*10, modulated_signal)\n",
    "plt.plot(data_1['Time'][1000:1500]-20, data_1['y_acc'][1000:1500])"
   ]
  },
  {
   "cell_type": "markdown",
   "id": "005231a5",
   "metadata": {},
   "source": [
    "## WAVELET BASED FILTERING "
   ]
  },
  {
   "cell_type": "code",
   "execution_count": null,
   "id": "a2df0c89",
   "metadata": {},
   "outputs": [],
   "source": [
    "plt.figure(figsize=(12,5))\n",
    "plt.plot(data_1['Time'][:350], data_1['y_acc'][:350] - np.mean(data_1['y_acc'][:350].to_numpy()))\n",
    "plt.show()"
   ]
  },
  {
   "cell_type": "code",
   "execution_count": null,
   "id": "e69fc62c",
   "metadata": {},
   "outputs": [],
   "source": [
    "def butter_bandstop_filter(data, sampling_freq, low_cutoff, high_cutoff, order=11):\n",
    "    nyquist = 0.5 * sampling_freq\n",
    "    low = low_cutoff / nyquist\n",
    "    high = high_cutoff/ nyquist\n",
    "    b, a = butter(order, [low, high], btype='bandstop')\n",
    "    y = filtfilt(b, a, data)\n",
    "    return y"
   ]
  },
  {
   "cell_type": "code",
   "execution_count": null,
   "id": "ddac3296",
   "metadata": {},
   "outputs": [],
   "source": [
    "plt.figure(figsize=(12,5))\n",
    "y = butter_bandstop_filter(data_1['y_acc'], 50, 1, 24)\n",
    "plt.plot()\n",
    "plt.plot(data_1['Time'], y)"
   ]
  },
  {
   "cell_type": "code",
   "execution_count": null,
   "id": "7b74e3d8",
   "metadata": {},
   "outputs": [],
   "source": [
    "y = butter_bandpass_filter(data_1['y_acc'], 50, 8, 20) + np.mean(data_1['y_acc'].to_numpy())"
   ]
  },
  {
   "cell_type": "code",
   "execution_count": null,
   "id": "ddc33235",
   "metadata": {},
   "outputs": [],
   "source": [
    "plt.figure(figsize=(12,5))\n",
    "# plt.plot(data_1['Time'], y_, color = 'green')\n",
    "plt.plot(data_1['Time'], data_1['y_acc'], color='blue')\n",
    "plt.plot(data_1['Time'], y, color='red')\n",
    "# plt.plot(data_1['Time'], y_y , color='pink')"
   ]
  },
  {
   "cell_type": "code",
   "execution_count": null,
   "id": "caf4d2e0",
   "metadata": {},
   "outputs": [],
   "source": []
  }
 ],
 "metadata": {
  "kernelspec": {
   "display_name": "Python 3.11.7",
   "language": "python",
   "name": "py3.11.7"
  },
  "language_info": {
   "codemirror_mode": {
    "name": "ipython",
    "version": 3
   },
   "file_extension": ".py",
   "mimetype": "text/x-python",
   "name": "python",
   "nbconvert_exporter": "python",
   "pygments_lexer": "ipython3",
   "version": "3.11.7"
  }
 },
 "nbformat": 4,
 "nbformat_minor": 5
}
